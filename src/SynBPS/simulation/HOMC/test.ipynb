{
 "cells": [
  {
   "cell_type": "code",
   "execution_count": 63,
   "metadata": {},
   "outputs": [],
   "source": [
    "import sys\n",
    "import os\n",
    "sys.path.append(os.path.abspath('../../../../src'))"
   ]
  },
  {
   "cell_type": "code",
   "execution_count": 64,
   "metadata": {},
   "outputs": [],
   "source": [
    "#import SynBPS\n",
    "from SynBPS.simulation.HOMC.distributions.Distribution import Distribution\n",
    "from SynBPS.simulation.HOMC.distributions.DiscreteDistribution import DiscreteDistribution\n",
    "from SynBPS.simulation.HOMC.distributions.ConditionalProbabilityTable import ConditionalProbabilityTable\n",
    "from SynBPS.simulation.HOMC.MarkovChain import MarkovChain\n",
    "\n",
    "from SynBPS.simulation.homc_helpers import cartesian_product, combine_to_list, modify_rules, generate_condprob"
   ]
  },
  {
   "cell_type": "code",
   "execution_count": 65,
   "metadata": {},
   "outputs": [
    {
     "name": "stdout",
     "output_type": "stream",
     "text": [
      "/Users/mikeriess/Desktop/code repos/SynBPS/src/SynBPS/simulation/HOMC\n"
     ]
    }
   ],
   "source": [
    "!pwd"
   ]
  },
  {
   "cell_type": "code",
   "execution_count": 66,
   "metadata": {},
   "outputs": [],
   "source": [
    "\n",
    "\n",
    "def cartesian_product(a,b):\n",
    "    import itertools\n",
    "\n",
    "    c = list(itertools.product(a, b))\n",
    "    return c\n",
    "\n",
    "\n",
    "def combine_to_list(c):\n",
    "    def flatten(listoflists):    \n",
    "        flattened_list = [item for sublist in listoflists for item in sublist]\n",
    "        return flattened_list\n",
    "    \n",
    "    # combine the letters into one item\n",
    "    newlist = []\n",
    "    \n",
    "    for i in range(0,len(c)):\n",
    "        combination = flatten(c[i])\n",
    "        newlist.append(combination)\n",
    "            \n",
    "    return newlist\n",
    "\n",
    "def modify_to_absorption(c):\n",
    "    \"\"\"\n",
    "    iterate over each line, and if E occurs at any point\n",
    "    \"\"\"\n",
    "    newlist = []\n",
    "    \n",
    "    return newlist\n",
    "\n",
    "\n",
    "def modify_rules(parent, states):\n",
    "    import numpy as np\n",
    "    #append probabilities to each row in the condition table\n",
    "    condprob=[]\n",
    "        \n",
    "    #for each parent state\n",
    "    for parentstate in states:\n",
    "        \n",
    "        #subset all rows starting with parent state i\n",
    "        subset = [row for row in parent if row[0] == parentstate]\n",
    "\n",
    "        \"\"\"# manipulate the list \"\"\"\n",
    "        \n",
    "        #All rows, starting with E, should lead only to E\n",
    "        #If a sequence has E at any point, every subsequent entry becomes E\n",
    "        \n",
    "        new_subset = []\n",
    "        \n",
    "        for row in subset:\n",
    "            \n",
    "            #make a new row, based on rules\n",
    "            newrow=[]\n",
    "            \n",
    "            #flag-variable\n",
    "            e_observed = False\n",
    "            \n",
    "            #for each step in the sequence\n",
    "            for idx in range(0,len(row)):\n",
    "                \n",
    "                \n",
    "                # if e is observed in current timestep, set flag to true\n",
    "                if row[idx] == \"E\":\n",
    "                    e_observed = True\n",
    "                \n",
    "                # \n",
    "                if e_observed == True:\n",
    "                    value = \"E\"\n",
    "                else:\n",
    "                    value = row[idx]\n",
    "                \n",
    "                #append new value, based on above logic\n",
    "                newrow.append(value)\n",
    "                \n",
    "                                \n",
    "            #append new modified row\n",
    "            new_subset.append(newrow)\n",
    "        \n",
    "        #append to final list\n",
    "        condprob = condprob + new_subset\n",
    "    \n",
    "    return condprob\n",
    "\n",
    "\n",
    "def generate_condprob(parent, states, mode=\"max_entropy\", n_transitions=5):\n",
    "    import numpy as np\n",
    "    #append probabilities to each row in the condition table\n",
    "    condprob=[]\n",
    "        \n",
    "    #for each parent state\n",
    "    for parentstate in states:\n",
    "        \n",
    "        #subset all rows starting with parent state i\n",
    "        subset = [row for row in parent if row[0] == parentstate]\n",
    "\n",
    "        \"\"\"# manipulate the list \"\"\"\n",
    "        \n",
    "        #All rows, starting with E, should lead only to E\n",
    "        #If a sequence has E at any point, every subsequent entry becomes E\n",
    "        \n",
    "        if mode==\"max_entropy\":\n",
    "            #get list of probabilities for each state\n",
    "            vec = np.random.random(len(subset))\n",
    "        \n",
    "        if mode==\"med_entropy\":\n",
    "            #get n random rows with probability > 0, and 0 for rest of the rows\n",
    "            vec = np.zeros(len(subset)).tolist()\n",
    "            \n",
    "            ids = list(range(0,len(vec)))\n",
    "            import random\n",
    "            selected = random.sample(ids, n_transitions)\n",
    "            \n",
    "            for i in selected:\n",
    "                vec[i] = np.round(np.random.random(1)[0],decimals=8)\n",
    "                \n",
    "        if mode==\"min_entropy\":\n",
    "            #get 1 random row with probability == 1 and 0 for rest of the rows\n",
    "            vec = np.zeros(len(subset)).tolist()\n",
    "            \n",
    "            ids = list(range(0,len(vec)))\n",
    "            import random\n",
    "            selected = random.sample(ids, 1)[0]\n",
    "            \n",
    "            #set probability to 1\n",
    "            vec[selected] = 1\n",
    "            \n",
    "        \n",
    "        #normalize it\n",
    "        vec = np.round(vec/np.sum(vec), decimals=5)\n",
    "        vec = vec.tolist()\n",
    "        \n",
    "        for i in range(0,len(subset)):\n",
    "            #get the probability\n",
    "            p = vec[i]\n",
    "            \n",
    "            #append it to row i in subset\n",
    "            subset[i].append(p)\n",
    "            \n",
    "        #\"\"\"\n",
    "        #append to final list\n",
    "        condprob = condprob + subset\n",
    "    \n",
    "    return condprob"
   ]
  },
  {
   "cell_type": "code",
   "execution_count": 67,
   "metadata": {},
   "outputs": [],
   "source": [
    "\n",
    "def GenerateInitialProb(D=[\"a\",\"b\"], p0_type=\"regular\"):\n",
    "    import numpy as np\n",
    "    import pandas as pd\n",
    "    \n",
    "    if p0_type == \"min_entropy\":\n",
    "        # Example P0 is one-hot\n",
    "    \n",
    "        P0 = np.zeros(len(D))\n",
    "        P0[np.random.randint(0,len(D),1)[0]] = 1\n",
    "        P0 = P0.tolist()\n",
    "\n",
    "    if p0_type != \"min_entropy\":\n",
    "        \n",
    "        P0 = []\n",
    "    \n",
    "        for d in D:\n",
    "            #Draw from uniform dist\n",
    "            x_d = np.random.uniform(0,1,1)[0]\n",
    "            #print(x_d)\n",
    "            #Append the value to the vector\n",
    "            P0.append(x_d)\n",
    "        \n",
    "        #Add the p(absorbtion)=0 to P0\n",
    "        #P0.append(0)\n",
    "        \n",
    "        #Normalize\n",
    "        S_sum = np.sum(P0)\n",
    "        P0 = P0/S_sum\n",
    "        \n",
    "        #Make dataframe\n",
    "        #P_0_df = pd.DataFrame(P0).T\n",
    "        #P_0_df.columns = D\n",
    "        \n",
    "    return P0#P_0_df\n"
   ]
  },
  {
   "cell_type": "code",
   "execution_count": 68,
   "metadata": {},
   "outputs": [],
   "source": [
    "D = [\"A\",\"B\",\"C\"]\n",
    "mode = \"max_entropy\"\n",
    "\n",
    "# Including absorption state\n",
    "D_abs = D.copy()\n",
    "D_abs.append(\"!\")"
   ]
  },
  {
   "cell_type": "code",
   "execution_count": 69,
   "metadata": {},
   "outputs": [],
   "source": [
    "\n",
    "# Generate the model\n",
    "\n",
    "#generate initial probabilities\n",
    "probabilities = GenerateInitialProb(D_abs, p0_type=mode)    \n",
    "P0 = {}\n",
    "\n",
    "for i in range(0,len(D_abs)):\n",
    "    P0.update({D_abs[i]:probabilities[i]})\n",
    "\n"
   ]
  },
  {
   "cell_type": "code",
   "execution_count": 70,
   "metadata": {},
   "outputs": [],
   "source": [
    "states = D\n",
    "h0 = P0\n",
    "h=2\n",
    "mode=\"max_entropy\"\n",
    "n_transitions=5\n"
   ]
  },
  {
   "cell_type": "code",
   "execution_count": 71,
   "metadata": {},
   "outputs": [],
   "source": [
    "#####################################\n",
    "# P1\n",
    "\n",
    "#for each link\n",
    "c = cartesian_product(states, states)\n",
    "d = combine_to_list(c)\n",
    "\n",
    "#final steps\n",
    "g = modify_rules(d, states)\n",
    "p1_input = generate_condprob(g, states, mode, n_transitions)\n",
    "\n",
    "######################################\n",
    "# P2\n",
    "\n",
    "#for each link\n",
    "c = cartesian_product(states, states)\n",
    "d = combine_to_list(c)\n",
    "\n",
    "e = cartesian_product(c, states)\n",
    "f = combine_to_list(e)\n",
    "\n",
    "#final steps\n",
    "g = modify_rules(f, states)\n",
    "p2_input = generate_condprob(g, states, mode, n_transitions)"
   ]
  },
  {
   "cell_type": "markdown",
   "metadata": {},
   "source": [
    "### Regular functions"
   ]
  },
  {
   "cell_type": "code",
   "execution_count": 72,
   "metadata": {},
   "outputs": [
    {
     "data": {
      "text/plain": [
       "{'A': np.float64(0.3713075296921806),\n",
       " 'B': np.float64(0.09158428623363077),\n",
       " 'C': np.float64(0.3231436014373088),\n",
       " '!': np.float64(0.21396458263687976)}"
      ]
     },
     "execution_count": 72,
     "metadata": {},
     "output_type": "execute_result"
    }
   ],
   "source": [
    "P0"
   ]
  },
  {
   "cell_type": "code",
   "execution_count": 73,
   "metadata": {},
   "outputs": [
    {
     "data": {
      "text/plain": [
       "{'A': np.float64(0.3713075296921806),\n",
       " 'B': np.float64(0.09158428623363077),\n",
       " 'C': np.float64(0.3231436014373088),\n",
       " '!': np.float64(0.21396458263687976)}"
      ]
     },
     "execution_count": 73,
     "metadata": {},
     "output_type": "execute_result"
    }
   ],
   "source": [
    "h0"
   ]
  },
  {
   "cell_type": "code",
   "execution_count": 74,
   "metadata": {},
   "outputs": [
    {
     "data": {
      "text/plain": [
       "[['A', 'A', 0.2454],\n",
       " ['A', 'B', 0.55116],\n",
       " ['A', 'C', 0.20344],\n",
       " ['B', 'A', 0.2012],\n",
       " ['B', 'B', 0.33396],\n",
       " ['B', 'C', 0.46485],\n",
       " ['C', 'A', 0.30155],\n",
       " ['C', 'B', 0.32681],\n",
       " ['C', 'C', 0.37164]]"
      ]
     },
     "execution_count": 74,
     "metadata": {},
     "output_type": "execute_result"
    }
   ],
   "source": [
    "p1_input"
   ]
  },
  {
   "cell_type": "code",
   "execution_count": 75,
   "metadata": {},
   "outputs": [
    {
     "data": {
      "text/plain": [
       "[['A', 'A', 'A', 0.04318],\n",
       " ['A', 'A', 'B', 0.14851],\n",
       " ['A', 'A', 'C', 0.08958],\n",
       " ['A', 'B', 'A', 0.11481],\n",
       " ['A', 'B', 'B', 0.05919],\n",
       " ['A', 'B', 'C', 0.13176],\n",
       " ['A', 'C', 'A', 0.13524],\n",
       " ['A', 'C', 'B', 0.09995],\n",
       " ['A', 'C', 'C', 0.17777],\n",
       " ['B', 'A', 'A', 0.08322],\n",
       " ['B', 'A', 'B', 0.12558],\n",
       " ['B', 'A', 'C', 0.01253],\n",
       " ['B', 'B', 'A', 0.03301],\n",
       " ['B', 'B', 'B', 0.17809],\n",
       " ['B', 'B', 'C', 0.16106],\n",
       " ['B', 'C', 'A', 0.09448],\n",
       " ['B', 'C', 'B', 0.17925],\n",
       " ['B', 'C', 'C', 0.13278],\n",
       " ['C', 'A', 'A', 0.00545],\n",
       " ['C', 'A', 'B', 0.17763],\n",
       " ['C', 'A', 'C', 0.05043],\n",
       " ['C', 'B', 'A', 0.25939],\n",
       " ['C', 'B', 'B', 0.00532],\n",
       " ['C', 'B', 'C', 0.18488],\n",
       " ['C', 'C', 'A', 0.05515],\n",
       " ['C', 'C', 'B', 0.20593],\n",
       " ['C', 'C', 'C', 0.05579]]"
      ]
     },
     "execution_count": 75,
     "metadata": {},
     "output_type": "execute_result"
    }
   ],
   "source": [
    "p2_input"
   ]
  },
  {
   "cell_type": "code",
   "execution_count": 76,
   "metadata": {},
   "outputs": [],
   "source": [
    "p0 = DiscreteDistribution(h0)\n",
    "\n",
    "p1 = ConditionalProbabilityTable(p1_input, [p0])\n",
    "\n",
    "p2 = ConditionalProbabilityTable(p2_input, [p1])\n",
    "\n",
    "HOMC = MarkovChain([p0, p1, p2])"
   ]
  },
  {
   "cell_type": "code",
   "execution_count": 77,
   "metadata": {},
   "outputs": [
    {
     "data": {
      "text/plain": [
       "[<SynBPS.simulation.HOMC.distributions.DiscreteDistribution.DiscreteDistribution at 0x1175cc070>,\n",
       " <SynBPS.simulation.HOMC.distributions.ConditionalProbabilityTable.ConditionalProbabilityTable at 0x1175ce6b0>,\n",
       " <SynBPS.simulation.HOMC.distributions.ConditionalProbabilityTable.ConditionalProbabilityTable at 0x1175cc6a0>]"
      ]
     },
     "execution_count": 77,
     "metadata": {},
     "output_type": "execute_result"
    }
   ],
   "source": [
    "HOMC.distributions"
   ]
  },
  {
   "cell_type": "code",
   "execution_count": 78,
   "metadata": {},
   "outputs": [
    {
     "data": {
      "text/plain": [
       "[np.str_('C'), 'A', 'C']"
      ]
     },
     "execution_count": 78,
     "metadata": {},
     "output_type": "execute_result"
    }
   ],
   "source": [
    "HOMC.sample(2)"
   ]
  },
  {
   "cell_type": "markdown",
   "metadata": {},
   "source": [
    "## Alternate apparoach"
   ]
  },
  {
   "cell_type": "code",
   "execution_count": 79,
   "metadata": {},
   "outputs": [],
   "source": [
    "def recursive_cartesian_product(states, h):\n",
    "    if h == 1:\n",
    "        return [[s] for s in states]\n",
    "    else:\n",
    "        prev = recursive_cartesian_product(states, h-1)\n",
    "        return [p + [s] for p in prev for s in states]"
   ]
  },
  {
   "cell_type": "code",
   "execution_count": 80,
   "metadata": {},
   "outputs": [],
   "source": [
    "def create_homc(states, h0, h=2, mode=\"max_entropy\", n_transitions=5):\n",
    "    from SynBPS.simulation.homc_helpers import combine_to_list, modify_rules, generate_condprob\n",
    "    from SynBPS.simulation.HOMC.distributions.ConditionalProbabilityTable import ConditionalProbabilityTable\n",
    "    from SynBPS.simulation.HOMC.distributions.DiscreteDistribution import DiscreteDistribution\n",
    "    from SynBPS.simulation.HOMC.MarkovChain import MarkovChain\n",
    "\n",
    "    # Generate all conditional probability tables\n",
    "    cpt_inputs = []\n",
    "    for i in range(1, h+1):\n",
    "        d = recursive_cartesian_product(states, i)\n",
    "        g = modify_rules(d, states)\n",
    "        cpt_input = generate_condprob(g, states, mode, n_transitions)\n",
    "        cpt_inputs.append(cpt_input)\n",
    "\n",
    "    # Create the Markov Chain\n",
    "    p0 = DiscreteDistribution(h0)\n",
    "    distributions = [p0]\n",
    "\n",
    "    for i in range(h):\n",
    "        if i == 0:\n",
    "            p = ConditionalProbabilityTable(cpt_inputs[i], [p0])\n",
    "        else:\n",
    "            p = ConditionalProbabilityTable(cpt_inputs[i], [distributions[-1]])\n",
    "        distributions.append(p)\n",
    "\n",
    "    HOMC = MarkovChain(distributions)\n",
    "\n",
    "    return HOMC\n"
   ]
  },
  {
   "cell_type": "code",
   "execution_count": 81,
   "metadata": {},
   "outputs": [
    {
     "data": {
      "text/plain": [
       "[np.str_('A'), 'A', 'B', 'C']"
      ]
     },
     "execution_count": 81,
     "metadata": {},
     "output_type": "execute_result"
    }
   ],
   "source": [
    "homc = create_homc(states, h0, h=2, mode=\"max_entropy\", n_transitions=5)\n",
    "homc.sample(4)"
   ]
  },
  {
   "cell_type": "code",
   "execution_count": 82,
   "metadata": {},
   "outputs": [
    {
     "data": {
      "text/plain": [
       "2"
      ]
     },
     "execution_count": 82,
     "metadata": {},
     "output_type": "execute_result"
    }
   ],
   "source": [
    "homc.k"
   ]
  },
  {
   "cell_type": "code",
   "execution_count": 83,
   "metadata": {},
   "outputs": [
    {
     "data": {
      "text/plain": [
       "[<SynBPS.simulation.HOMC.distributions.DiscreteDistribution.DiscreteDistribution at 0x1175cebf0>,\n",
       " <SynBPS.simulation.HOMC.distributions.ConditionalProbabilityTable.ConditionalProbabilityTable at 0x1175cf010>,\n",
       " <SynBPS.simulation.HOMC.distributions.ConditionalProbabilityTable.ConditionalProbabilityTable at 0x1175ceda0>]"
      ]
     },
     "execution_count": 83,
     "metadata": {},
     "output_type": "execute_result"
    }
   ],
   "source": [
    "homc.distributions"
   ]
  },
  {
   "cell_type": "code",
   "execution_count": 84,
   "metadata": {},
   "outputs": [
    {
     "data": {
      "text/plain": [
       "[{'A': np.float64(0.3713075296921806),\n",
       "  'B': np.float64(0.09158428623363077),\n",
       "  'C': np.float64(0.3231436014373088),\n",
       "  '!': np.float64(0.21396458263687976)}]"
      ]
     },
     "execution_count": 84,
     "metadata": {},
     "output_type": "execute_result"
    }
   ],
   "source": [
    "homc.distributions[0].parameters"
   ]
  },
  {
   "cell_type": "code",
   "execution_count": 91,
   "metadata": {},
   "outputs": [
    {
     "ename": "IndexError",
     "evalue": "index 0 is out of bounds for axis 0 with size 0",
     "output_type": "error",
     "traceback": [
      "\u001b[0;31m---------------------------------------------------------------------------\u001b[0m",
      "\u001b[0;31mIndexError\u001b[0m                                Traceback (most recent call last)",
      "Cell \u001b[0;32mIn[91], line 2\u001b[0m\n\u001b[1;32m      1\u001b[0m homc \u001b[38;5;241m=\u001b[39m create_homc(states, h0, h\u001b[38;5;241m=\u001b[39m\u001b[38;5;241m6\u001b[39m, mode\u001b[38;5;241m=\u001b[39m\u001b[38;5;124m\"\u001b[39m\u001b[38;5;124mmax_entropy\u001b[39m\u001b[38;5;124m\"\u001b[39m, n_transitions\u001b[38;5;241m=\u001b[39m\u001b[38;5;241m5\u001b[39m)\n\u001b[0;32m----> 2\u001b[0m \u001b[43mhomc\u001b[49m\u001b[38;5;241;43m.\u001b[39;49m\u001b[43msample\u001b[49m\u001b[43m(\u001b[49m\u001b[38;5;241;43m8\u001b[39;49m\u001b[43m)\u001b[49m\n",
      "File \u001b[0;32m~/Desktop/code repos/SynBPS/src/SynBPS/simulation/HOMC/MarkovChain.py:73\u001b[0m, in \u001b[0;36mMarkovChain.sample\u001b[0;34m(self, length)\u001b[0m\n\u001b[1;32m     71\u001b[0m \u001b[38;5;28;01mfor\u001b[39;00m j, distribution \u001b[38;5;129;01min\u001b[39;00m \u001b[38;5;28menumerate\u001b[39m(\u001b[38;5;28mself\u001b[39m\u001b[38;5;241m.\u001b[39mdistributions[\u001b[38;5;241m1\u001b[39m:]):\n\u001b[1;32m     72\u001b[0m     parents \u001b[38;5;241m=\u001b[39m {\u001b[38;5;28mself\u001b[39m\u001b[38;5;241m.\u001b[39mdistributions[l]: sequence[l] \u001b[38;5;28;01mfor\u001b[39;00m l \u001b[38;5;129;01min\u001b[39;00m \u001b[38;5;28mrange\u001b[39m(j\u001b[38;5;241m+\u001b[39m\u001b[38;5;241m1\u001b[39m)}\n\u001b[0;32m---> 73\u001b[0m     sequence\u001b[38;5;241m.\u001b[39mappend(\u001b[43mdistribution\u001b[49m\u001b[38;5;241;43m.\u001b[39;49m\u001b[43msample\u001b[49m\u001b[43m(\u001b[49m\u001b[43mparents\u001b[49m\u001b[43m)\u001b[49m)\n\u001b[1;32m     75\u001b[0m \u001b[38;5;28;01mif\u001b[39;00m \u001b[38;5;28mlen\u001b[39m(sequence) \u001b[38;5;241m==\u001b[39m length:\n\u001b[1;32m     76\u001b[0m     \u001b[38;5;28;01mreturn\u001b[39;00m sequence\n",
      "File \u001b[0;32m~/Desktop/code repos/SynBPS/src/SynBPS/simulation/HOMC/distributions/ConditionalProbabilityTable.py:131\u001b[0m, in \u001b[0;36mConditionalProbabilityTable.sample\u001b[0;34m(self, parent_values, n, random_state)\u001b[0m\n\u001b[1;32m    129\u001b[0m sample_vals \u001b[38;5;241m/\u001b[39m\u001b[38;5;241m=\u001b[39m np\u001b[38;5;241m.\u001b[39msum(sample_vals)\n\u001b[1;32m    130\u001b[0m \u001b[38;5;28;01mif\u001b[39;00m n \u001b[38;5;129;01mis\u001b[39;00m \u001b[38;5;28;01mNone\u001b[39;00m:\n\u001b[0;32m--> 131\u001b[0m     sample_ind \u001b[38;5;241m=\u001b[39m \u001b[43mnp\u001b[49m\u001b[38;5;241;43m.\u001b[39;49m\u001b[43mwhere\u001b[49m\u001b[43m(\u001b[49m\u001b[43mrandom_state\u001b[49m\u001b[38;5;241;43m.\u001b[39;49m\u001b[43mmultinomial\u001b[49m\u001b[43m(\u001b[49m\u001b[38;5;241;43m1\u001b[39;49m\u001b[43m,\u001b[49m\u001b[43m \u001b[49m\u001b[43msample_vals\u001b[49m\u001b[43m)\u001b[49m\u001b[43m)\u001b[49m\u001b[43m[\u001b[49m\u001b[38;5;241;43m0\u001b[39;49m\u001b[43m]\u001b[49m\u001b[43m[\u001b[49m\u001b[38;5;241;43m0\u001b[39;49m\u001b[43m]\u001b[49m\n\u001b[1;32m    132\u001b[0m     \u001b[38;5;28;01mreturn\u001b[39;00m sample_cands[sample_ind]\n\u001b[1;32m    133\u001b[0m \u001b[38;5;28;01melif\u001b[39;00m n \u001b[38;5;241m>\u001b[39m \u001b[38;5;241m5\u001b[39m:\n",
      "\u001b[0;31mIndexError\u001b[0m: index 0 is out of bounds for axis 0 with size 0"
     ]
    }
   ],
   "source": [
    "homc = create_homc(states, h0, h=6, mode=\"max_entropy\", n_transitions=5)\n",
    "homc.sample(8)"
   ]
  },
  {
   "cell_type": "markdown",
   "metadata": {},
   "source": [
    "# Python functions"
   ]
  },
  {
   "cell_type": "code",
   "execution_count": 21,
   "metadata": {},
   "outputs": [
    {
     "data": {
      "text/plain": [
       "<distributions.DiscreteDistribution.DiscreteDistribution at 0x1070418d0>"
      ]
     },
     "execution_count": 21,
     "metadata": {},
     "output_type": "execute_result"
    }
   ],
   "source": [
    "from distributions.DiscreteDistribution import DiscreteDistribution\n",
    "d1 = DiscreteDistribution({'A': 0.25, 'B': 0.75})\n",
    "d1"
   ]
  },
  {
   "cell_type": "code",
   "execution_count": 22,
   "metadata": {},
   "outputs": [
    {
     "data": {
      "text/plain": [
       "<distributions.ConditionalProbabilityTable.ConditionalProbabilityTable at 0x1070420d0>"
      ]
     },
     "execution_count": 22,
     "metadata": {},
     "output_type": "execute_result"
    }
   ],
   "source": [
    "from distributions.ConditionalProbabilityTable import ConditionalProbabilityTable\n",
    "\n",
    "d2 = ConditionalProbabilityTable([['A', 'A', 0.1],\n",
    "                                      ['A', 'B', 0.9],\n",
    "                                      ['B', 'A', 0.6],\n",
    "                                      ['B', 'B', 0.4]], [d1])\n",
    "\n",
    "d3 = ConditionalProbabilityTable([['A', 'A', 'A', 0.4],\n",
    "                                      ['A', 'A', 'B', 0.6],\n",
    "                                      ['A', 'B', 'A', 0.8],\n",
    "                                      ['A', 'B', 'B', 0.2],\n",
    "                                      ['B', 'A', 'A', 0.9],\n",
    "                                      ['B', 'A', 'B', 0.1],\n",
    "                                      ['B', 'B', 'A', 0.2],\n",
    "                                      ['B', 'B', 'B', 0.8]], [d1, d2])\n",
    "\n",
    "d2"
   ]
  },
  {
   "cell_type": "code",
   "execution_count": 23,
   "metadata": {},
   "outputs": [],
   "source": [
    "from MarkovChain import MarkovChain"
   ]
  },
  {
   "cell_type": "code",
   "execution_count": 24,
   "metadata": {},
   "outputs": [
    {
     "data": {
      "text/plain": [
       "<MarkovChain.MarkovChain at 0x107042a50>"
      ]
     },
     "execution_count": 24,
     "metadata": {},
     "output_type": "execute_result"
    }
   ],
   "source": [
    "model = MarkovChain([d1, d2, d3])\n",
    "model"
   ]
  },
  {
   "cell_type": "code",
   "execution_count": 25,
   "metadata": {},
   "outputs": [],
   "source": [
    "#print(model.to_json())"
   ]
  },
  {
   "cell_type": "code",
   "execution_count": 26,
   "metadata": {},
   "outputs": [
    {
     "data": {
      "text/plain": [
       "[<distributions.DiscreteDistribution.DiscreteDistribution at 0x1070418d0>,\n",
       " <distributions.ConditionalProbabilityTable.ConditionalProbabilityTable at 0x1070420d0>,\n",
       " <distributions.ConditionalProbabilityTable.ConditionalProbabilityTable at 0x107041910>]"
      ]
     },
     "execution_count": 26,
     "metadata": {},
     "output_type": "execute_result"
    }
   ],
   "source": [
    "model.distributions"
   ]
  },
  {
   "cell_type": "code",
   "execution_count": 27,
   "metadata": {},
   "outputs": [],
   "source": [
    "model.summarize(sequences=[\"A\",\"A\"])"
   ]
  },
  {
   "cell_type": "code",
   "execution_count": 28,
   "metadata": {},
   "outputs": [
    {
     "data": {
      "text/plain": [
       "2"
      ]
     },
     "execution_count": 28,
     "metadata": {},
     "output_type": "execute_result"
    }
   ],
   "source": [
    "model.k"
   ]
  },
  {
   "cell_type": "code",
   "execution_count": 29,
   "metadata": {},
   "outputs": [
    {
     "data": {
      "text/plain": [
       "<bound method MarkovChain.sample of <MarkovChain.MarkovChain object at 0x107042a50>>"
      ]
     },
     "execution_count": 29,
     "metadata": {},
     "output_type": "execute_result"
    }
   ],
   "source": [
    "model.sample"
   ]
  },
  {
   "cell_type": "code",
   "execution_count": 30,
   "metadata": {},
   "outputs": [
    {
     "data": {
      "text/plain": [
       "['B', 'A', 'A', 'B', 'A']"
      ]
     },
     "execution_count": 30,
     "metadata": {},
     "output_type": "execute_result"
    }
   ],
   "source": [
    "model.sample(5)"
   ]
  },
  {
   "cell_type": "code",
   "execution_count": null,
   "metadata": {},
   "outputs": [],
   "source": []
  }
 ],
 "metadata": {
  "kernelspec": {
   "display_name": "sbps_testing",
   "language": "python",
   "name": "python3"
  },
  "language_info": {
   "codemirror_mode": {
    "name": "ipython",
    "version": 3
   },
   "file_extension": ".py",
   "mimetype": "text/x-python",
   "name": "python",
   "nbconvert_exporter": "python",
   "pygments_lexer": "ipython3",
   "version": "3.10.14"
  }
 },
 "nbformat": 4,
 "nbformat_minor": 2
}
