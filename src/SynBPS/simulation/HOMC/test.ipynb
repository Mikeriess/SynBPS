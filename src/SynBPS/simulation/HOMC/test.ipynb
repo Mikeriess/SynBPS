{
 "cells": [
  {
   "cell_type": "code",
   "execution_count": 23,
   "metadata": {},
   "outputs": [],
   "source": [
    "\n",
    "\n",
    "def cartesian_product(a,b):\n",
    "    import itertools\n",
    "\n",
    "    c = list(itertools.product(a, b))\n",
    "    return c\n",
    "\n",
    "\n",
    "def combine_to_list(c):\n",
    "    def flatten(listoflists):    \n",
    "        flattened_list = [item for sublist in listoflists for item in sublist]\n",
    "        return flattened_list\n",
    "    \n",
    "    # combine the letters into one item\n",
    "    newlist = []\n",
    "    \n",
    "    for i in range(0,len(c)):\n",
    "        combination = flatten(c[i])\n",
    "        newlist.append(combination)\n",
    "            \n",
    "    return newlist\n",
    "\n",
    "def modify_to_absorption(c):\n",
    "    \"\"\"\n",
    "    iterate over each line, and if E occurs at any point\n",
    "    \"\"\"\n",
    "    newlist = []\n",
    "    \n",
    "    return newlist\n",
    "\n",
    "\n",
    "def modify_rules(parent, states):\n",
    "    import numpy as np\n",
    "    #append probabilities to each row in the condition table\n",
    "    condprob=[]\n",
    "        \n",
    "    #for each parent state\n",
    "    for parentstate in states:\n",
    "        \n",
    "        #subset all rows starting with parent state i\n",
    "        subset = [row for row in parent if row[0] == parentstate]\n",
    "\n",
    "        \"\"\"# manipulate the list \"\"\"\n",
    "        \n",
    "        #All rows, starting with E, should lead only to E\n",
    "        #If a sequence has E at any point, every subsequent entry becomes E\n",
    "        \n",
    "        new_subset = []\n",
    "        \n",
    "        for row in subset:\n",
    "            \n",
    "            #make a new row, based on rules\n",
    "            newrow=[]\n",
    "            \n",
    "            #flag-variable\n",
    "            e_observed = False\n",
    "            \n",
    "            #for each step in the sequence\n",
    "            for idx in range(0,len(row)):\n",
    "                \n",
    "                \n",
    "                # if e is observed in current timestep, set flag to true\n",
    "                if row[idx] == \"E\":\n",
    "                    e_observed = True\n",
    "                \n",
    "                # \n",
    "                if e_observed == True:\n",
    "                    value = \"E\"\n",
    "                else:\n",
    "                    value = row[idx]\n",
    "                \n",
    "                #append new value, based on above logic\n",
    "                newrow.append(value)\n",
    "                \n",
    "                                \n",
    "            #append new modified row\n",
    "            new_subset.append(newrow)\n",
    "        \n",
    "        #append to final list\n",
    "        condprob = condprob + new_subset\n",
    "    \n",
    "    return condprob\n",
    "\n",
    "\n",
    "def generate_condprob(parent, states, mode=\"max_entropy\", n_transitions=5):\n",
    "    import numpy as np\n",
    "    #append probabilities to each row in the condition table\n",
    "    condprob=[]\n",
    "        \n",
    "    #for each parent state\n",
    "    for parentstate in states:\n",
    "        \n",
    "        #subset all rows starting with parent state i\n",
    "        subset = [row for row in parent if row[0] == parentstate]\n",
    "\n",
    "        \"\"\"# manipulate the list \"\"\"\n",
    "        \n",
    "        #All rows, starting with E, should lead only to E\n",
    "        #If a sequence has E at any point, every subsequent entry becomes E\n",
    "        \n",
    "        if mode==\"max_entropy\":\n",
    "            #get list of probabilities for each state\n",
    "            vec = np.random.random(len(subset))\n",
    "        \n",
    "        if mode==\"med_entropy\":\n",
    "            #get n random rows with probability > 0, and 0 for rest of the rows\n",
    "            vec = np.zeros(len(subset)).tolist()\n",
    "            \n",
    "            ids = list(range(0,len(vec)))\n",
    "            import random\n",
    "            selected = random.sample(ids, n_transitions)\n",
    "            \n",
    "            for i in selected:\n",
    "                vec[i] = np.round(np.random.random(1)[0],decimals=8)\n",
    "                \n",
    "        if mode==\"min_entropy\":\n",
    "            #get 1 random row with probability == 1 and 0 for rest of the rows\n",
    "            vec = np.zeros(len(subset)).tolist()\n",
    "            \n",
    "            ids = list(range(0,len(vec)))\n",
    "            import random\n",
    "            selected = random.sample(ids, 1)[0]\n",
    "            \n",
    "            #set probability to 1\n",
    "            vec[selected] = 1\n",
    "            \n",
    "        \n",
    "        #normalize it\n",
    "        vec = np.round(vec/np.sum(vec), decimals=5)\n",
    "        vec = vec.tolist()\n",
    "        \n",
    "        for i in range(0,len(subset)):\n",
    "            #get the probability\n",
    "            p = vec[i]\n",
    "            \n",
    "            #append it to row i in subset\n",
    "            subset[i].append(p)\n",
    "            \n",
    "        #\"\"\"\n",
    "        #append to final list\n",
    "        condprob = condprob + subset\n",
    "    \n",
    "    return condprob"
   ]
  },
  {
   "cell_type": "code",
   "execution_count": 21,
   "metadata": {},
   "outputs": [],
   "source": [
    "\n",
    "def GenerateInitialProb(D=[\"a\",\"b\"], p0_type=\"regular\"):\n",
    "    import numpy as np\n",
    "    import pandas as pd\n",
    "    \n",
    "    if p0_type == \"min_entropy\":\n",
    "        # Example P0 is one-hot\n",
    "    \n",
    "        P0 = np.zeros(len(D))\n",
    "        P0[np.random.randint(0,len(D),1)[0]] = 1\n",
    "        P0 = P0.tolist()\n",
    "\n",
    "    if p0_type != \"min_entropy\":\n",
    "        \n",
    "        P0 = []\n",
    "    \n",
    "        for d in D:\n",
    "            #Draw from uniform dist\n",
    "            x_d = np.random.uniform(0,1,1)[0]\n",
    "            #print(x_d)\n",
    "            #Append the value to the vector\n",
    "            P0.append(x_d)\n",
    "        \n",
    "        #Add the p(absorbtion)=0 to P0\n",
    "        #P0.append(0)\n",
    "        \n",
    "        #Normalize\n",
    "        S_sum = np.sum(P0)\n",
    "        P0 = P0/S_sum\n",
    "        \n",
    "        #Make dataframe\n",
    "        #P_0_df = pd.DataFrame(P0).T\n",
    "        #P_0_df.columns = D\n",
    "        \n",
    "    return P0#P_0_df\n"
   ]
  },
  {
   "cell_type": "code",
   "execution_count": 19,
   "metadata": {},
   "outputs": [],
   "source": [
    "D = [\"A\",\"B\",\"C\"]\n",
    "mode = \"max_entropy\"\n",
    "\n",
    "# Including absorption state\n",
    "D_abs = D.copy()\n",
    "D_abs.append(\"!\")"
   ]
  },
  {
   "cell_type": "code",
   "execution_count": 22,
   "metadata": {},
   "outputs": [],
   "source": [
    "\n",
    "# Generate the model\n",
    "\n",
    "#generate initial probabilities\n",
    "probabilities = GenerateInitialProb(D_abs, p0_type=mode)    \n",
    "P0 = {}\n",
    "\n",
    "for i in range(0,len(D_abs)):\n",
    "    P0.update({D_abs[i]:probabilities[i]})\n",
    "\n"
   ]
  },
  {
   "cell_type": "code",
   "execution_count": 24,
   "metadata": {},
   "outputs": [],
   "source": [
    "states = D\n",
    "h0 = P0\n",
    "h=2\n",
    "mode=\"max_entropy\"\n",
    "n_transitions=5\n",
    "\n",
    "    \n",
    "######################################\n",
    "# P1\n",
    "\n",
    "#for each link\n",
    "c = cartesian_product(states, states)\n",
    "d = combine_to_list(c)\n",
    "\n",
    "#final steps\n",
    "g = modify_rules(d, states)\n",
    "p1_input = generate_condprob(g, states, mode, n_transitions)\n",
    "\n",
    "######################################\n",
    "# P2\n",
    "\n",
    "#for each link\n",
    "c = cartesian_product(states, states)\n",
    "d = combine_to_list(c)\n",
    "\n",
    "e = cartesian_product(c, states)\n",
    "f = combine_to_list(e)\n",
    "\n",
    "#final steps\n",
    "g = modify_rules(f, states)\n",
    "p2_input = generate_condprob(g, states, mode, n_transitions)"
   ]
  },
  {
   "cell_type": "markdown",
   "metadata": {},
   "source": [
    "### Regular functions"
   ]
  },
  {
   "cell_type": "code",
   "execution_count": 32,
   "metadata": {},
   "outputs": [
    {
     "data": {
      "text/plain": [
       "[{'A': 0.33, 'B': 0.33, 'C': 0.33}]"
      ]
     },
     "execution_count": 32,
     "metadata": {},
     "output_type": "execute_result"
    }
   ],
   "source": [
    "p0.parameters"
   ]
  },
  {
   "cell_type": "code",
   "execution_count": 37,
   "metadata": {},
   "outputs": [
    {
     "data": {
      "text/plain": [
       "{'A': 0.1724660961578992,\n",
       " 'B': 0.11847967043612723,\n",
       " 'C': 0.5136797486822632,\n",
       " '!': 0.1953744847237104}"
      ]
     },
     "execution_count": 37,
     "metadata": {},
     "output_type": "execute_result"
    }
   ],
   "source": [
    "h0"
   ]
  },
  {
   "cell_type": "code",
   "execution_count": 35,
   "metadata": {},
   "outputs": [
    {
     "data": {
      "text/plain": [
       "[['A', 'A', 0.36619],\n",
       " ['A', 'B', 0.37605],\n",
       " ['A', 'C', 0.25776],\n",
       " ['B', 'A', 0.08368],\n",
       " ['B', 'B', 0.41803],\n",
       " ['B', 'C', 0.49829],\n",
       " ['C', 'A', 0.14541],\n",
       " ['C', 'B', 0.47314],\n",
       " ['C', 'C', 0.38145]]"
      ]
     },
     "execution_count": 35,
     "metadata": {},
     "output_type": "execute_result"
    }
   ],
   "source": [
    "p1_input"
   ]
  },
  {
   "cell_type": "code",
   "execution_count": 34,
   "metadata": {},
   "outputs": [
    {
     "data": {
      "text/plain": [
       "[['A', 'A', 'A', 0.02335],\n",
       " ['A', 'A', 'B', 0.00575],\n",
       " ['A', 'A', 'C', 0.19983],\n",
       " ['A', 'B', 'A', 0.05275],\n",
       " ['A', 'B', 'B', 0.03855],\n",
       " ['A', 'B', 'C', 0.14],\n",
       " ['A', 'C', 'A', 0.20077],\n",
       " ['A', 'C', 'B', 0.17964],\n",
       " ['A', 'C', 'C', 0.15936],\n",
       " ['B', 'A', 'A', 0.19726],\n",
       " ['B', 'A', 'B', 0.23587],\n",
       " ['B', 'A', 'C', 0.06495],\n",
       " ['B', 'B', 'A', 0.0625],\n",
       " ['B', 'B', 'B', 0.08834],\n",
       " ['B', 'B', 'C', 0.1835],\n",
       " ['B', 'C', 'A', 0.00884],\n",
       " ['B', 'C', 'B', 0.03818],\n",
       " ['B', 'C', 'C', 0.12057],\n",
       " ['C', 'A', 'A', 0.05249],\n",
       " ['C', 'A', 'B', 0.13286],\n",
       " ['C', 'A', 'C', 0.20528],\n",
       " ['C', 'B', 'A', 0.21217],\n",
       " ['C', 'B', 'B', 0.03139],\n",
       " ['C', 'B', 'C', 0.02499],\n",
       " ['C', 'C', 'A', 0.17645],\n",
       " ['C', 'C', 'B', 0.13696],\n",
       " ['C', 'C', 'C', 0.02743]]"
      ]
     },
     "execution_count": 34,
     "metadata": {},
     "output_type": "execute_result"
    }
   ],
   "source": [
    "p2_input"
   ]
  },
  {
   "cell_type": "code",
   "execution_count": 38,
   "metadata": {},
   "outputs": [],
   "source": [
    "p0 = DiscreteDistribution(h0)\n",
    "\n",
    "p1 = ConditionalProbabilityTable(p1_input, [p0])\n",
    "\n",
    "p2 = ConditionalProbabilityTable(p2_input, [p1])\n",
    "\n",
    "HOMC = MarkovChain([p0, p1, p2])"
   ]
  },
  {
   "cell_type": "code",
   "execution_count": 39,
   "metadata": {},
   "outputs": [
    {
     "data": {
      "text/plain": [
       "[<distributions.DiscreteDistribution.DiscreteDistribution at 0x30a8643d0>,\n",
       " <distributions.ConditionalProbabilityTable.ConditionalProbabilityTable at 0x3045d4a10>,\n",
       " <distributions.ConditionalProbabilityTable.ConditionalProbabilityTable at 0x30a867950>]"
      ]
     },
     "execution_count": 39,
     "metadata": {},
     "output_type": "execute_result"
    }
   ],
   "source": [
    "HOMC.distributions"
   ]
  },
  {
   "cell_type": "code",
   "execution_count": 42,
   "metadata": {},
   "outputs": [
    {
     "data": {
      "text/plain": [
       "['C', 'C', 'A']"
      ]
     },
     "execution_count": 42,
     "metadata": {},
     "output_type": "execute_result"
    }
   ],
   "source": [
    "HOMC.sample(2)"
   ]
  },
  {
   "cell_type": "markdown",
   "metadata": {},
   "source": [
    "# Python functions"
   ]
  },
  {
   "cell_type": "code",
   "execution_count": 21,
   "metadata": {},
   "outputs": [
    {
     "data": {
      "text/plain": [
       "<distributions.DiscreteDistribution.DiscreteDistribution at 0x1070418d0>"
      ]
     },
     "execution_count": 21,
     "metadata": {},
     "output_type": "execute_result"
    }
   ],
   "source": [
    "from distributions.DiscreteDistribution import DiscreteDistribution\n",
    "d1 = DiscreteDistribution({'A': 0.25, 'B': 0.75})\n",
    "d1"
   ]
  },
  {
   "cell_type": "code",
   "execution_count": 22,
   "metadata": {},
   "outputs": [
    {
     "data": {
      "text/plain": [
       "<distributions.ConditionalProbabilityTable.ConditionalProbabilityTable at 0x1070420d0>"
      ]
     },
     "execution_count": 22,
     "metadata": {},
     "output_type": "execute_result"
    }
   ],
   "source": [
    "from distributions.ConditionalProbabilityTable import ConditionalProbabilityTable\n",
    "\n",
    "d2 = ConditionalProbabilityTable([['A', 'A', 0.1],\n",
    "                                      ['A', 'B', 0.9],\n",
    "                                      ['B', 'A', 0.6],\n",
    "                                      ['B', 'B', 0.4]], [d1])\n",
    "\n",
    "d3 = ConditionalProbabilityTable([['A', 'A', 'A', 0.4],\n",
    "                                      ['A', 'A', 'B', 0.6],\n",
    "                                      ['A', 'B', 'A', 0.8],\n",
    "                                      ['A', 'B', 'B', 0.2],\n",
    "                                      ['B', 'A', 'A', 0.9],\n",
    "                                      ['B', 'A', 'B', 0.1],\n",
    "                                      ['B', 'B', 'A', 0.2],\n",
    "                                      ['B', 'B', 'B', 0.8]], [d1, d2])\n",
    "\n",
    "d2"
   ]
  },
  {
   "cell_type": "code",
   "execution_count": 23,
   "metadata": {},
   "outputs": [],
   "source": [
    "from MarkovChain import MarkovChain"
   ]
  },
  {
   "cell_type": "code",
   "execution_count": 24,
   "metadata": {},
   "outputs": [
    {
     "data": {
      "text/plain": [
       "<MarkovChain.MarkovChain at 0x107042a50>"
      ]
     },
     "execution_count": 24,
     "metadata": {},
     "output_type": "execute_result"
    }
   ],
   "source": [
    "model = MarkovChain([d1, d2, d3])\n",
    "model"
   ]
  },
  {
   "cell_type": "code",
   "execution_count": 25,
   "metadata": {},
   "outputs": [],
   "source": [
    "#print(model.to_json())"
   ]
  },
  {
   "cell_type": "code",
   "execution_count": 26,
   "metadata": {},
   "outputs": [
    {
     "data": {
      "text/plain": [
       "[<distributions.DiscreteDistribution.DiscreteDistribution at 0x1070418d0>,\n",
       " <distributions.ConditionalProbabilityTable.ConditionalProbabilityTable at 0x1070420d0>,\n",
       " <distributions.ConditionalProbabilityTable.ConditionalProbabilityTable at 0x107041910>]"
      ]
     },
     "execution_count": 26,
     "metadata": {},
     "output_type": "execute_result"
    }
   ],
   "source": [
    "model.distributions"
   ]
  },
  {
   "cell_type": "code",
   "execution_count": 27,
   "metadata": {},
   "outputs": [],
   "source": [
    "model.summarize(sequences=[\"A\",\"A\"])"
   ]
  },
  {
   "cell_type": "code",
   "execution_count": 28,
   "metadata": {},
   "outputs": [
    {
     "data": {
      "text/plain": [
       "2"
      ]
     },
     "execution_count": 28,
     "metadata": {},
     "output_type": "execute_result"
    }
   ],
   "source": [
    "model.k"
   ]
  },
  {
   "cell_type": "code",
   "execution_count": 29,
   "metadata": {},
   "outputs": [
    {
     "data": {
      "text/plain": [
       "<bound method MarkovChain.sample of <MarkovChain.MarkovChain object at 0x107042a50>>"
      ]
     },
     "execution_count": 29,
     "metadata": {},
     "output_type": "execute_result"
    }
   ],
   "source": [
    "model.sample"
   ]
  },
  {
   "cell_type": "code",
   "execution_count": 30,
   "metadata": {},
   "outputs": [
    {
     "data": {
      "text/plain": [
       "['B', 'A', 'A', 'B', 'A']"
      ]
     },
     "execution_count": 30,
     "metadata": {},
     "output_type": "execute_result"
    }
   ],
   "source": [
    "model.sample(5)"
   ]
  },
  {
   "cell_type": "code",
   "execution_count": null,
   "metadata": {},
   "outputs": [],
   "source": []
  }
 ],
 "metadata": {
  "kernelspec": {
   "display_name": "sbps_testing",
   "language": "python",
   "name": "python3"
  },
  "language_info": {
   "codemirror_mode": {
    "name": "ipython",
    "version": 3
   },
   "file_extension": ".py",
   "mimetype": "text/x-python",
   "name": "python",
   "nbconvert_exporter": "python",
   "pygments_lexer": "ipython3",
   "version": "3.11.5"
  }
 },
 "nbformat": 4,
 "nbformat_minor": 2
}
