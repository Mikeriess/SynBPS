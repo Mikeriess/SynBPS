{
 "cells": [
  {
   "cell_type": "code",
   "execution_count": null,
   "id": "b5579c6d-a6b6-423f-9a5f-5cb08e5f0ca9",
   "metadata": {},
   "outputs": [],
   "source": []
  },
  {
   "cell_type": "code",
   "execution_count": null,
   "id": "66853c01-e1a5-4ea9-86e9-fa9326282d9e",
   "metadata": {},
   "outputs": [],
   "source": []
  },
  {
   "cell_type": "markdown",
   "id": "6b28021e-1bc3-4299-ab0b-a947dceccc97",
   "metadata": {},
   "source": [
    "# Transition matrix generation"
   ]
  },
  {
   "cell_type": "code",
   "execution_count": 17,
   "id": "255d1813-e173-4a05-883a-d0ea56664094",
   "metadata": {},
   "outputs": [],
   "source": [
    "def cartesian_product(a,b):\n",
    "    import itertools\n",
    "\n",
    "    c = list(itertools.product(a, b))\n",
    "    return c\n",
    "\n",
    "\n",
    "def combine_to_list(c):\n",
    "    from SynBPS.simulation.simulation_helpers import flatten\n",
    "    \n",
    "    # combine the letters into one item\n",
    "    newlist = []\n",
    "    \n",
    "    for i in range(0,len(c)):\n",
    "        combination = flatten(c[i])\n",
    "        newlist.append(combination)\n",
    "            \n",
    "    return newlist\n",
    "\n",
    "def modify_to_absorption(c):\n",
    "    \"\"\"\n",
    "    iterate over each line, and if E occurs at any point\n",
    "    \"\"\"\n",
    "    newlist = []\n",
    "    \n",
    "    return newlist\n",
    "\n",
    "\n",
    "def modify_rules(parent, states):\n",
    "    import numpy as np\n",
    "    #append probabilities to each row in the condition table\n",
    "    condprob=[]\n",
    "        \n",
    "    #for each parent state\n",
    "    for parentstate in states:\n",
    "        \n",
    "        #subset all rows starting with parent state i\n",
    "        subset = [row for row in parent if row[0] == parentstate]\n",
    "\n",
    "        \"\"\"# manipulate the list \"\"\"\n",
    "        \n",
    "        #All rows, starting with E, should lead only to E\n",
    "        #If a sequence has E at any point, every subsequent entry becomes E\n",
    "        \n",
    "        new_subset = []\n",
    "        \n",
    "        for row in subset:\n",
    "            \n",
    "            #make a new row, based on rules\n",
    "            newrow=[]\n",
    "            \n",
    "            #flag-variable\n",
    "            e_observed = False\n",
    "            \n",
    "            #for each step in the sequence\n",
    "            for idx in range(0,len(row)):\n",
    "                \n",
    "                \n",
    "                # if e is observed in current timestep, set flag to true\n",
    "                if row[idx] == \"E\":\n",
    "                    e_observed = True\n",
    "                \n",
    "                # \n",
    "                if e_observed == True:\n",
    "                    value = \"E\"\n",
    "                else:\n",
    "                    value = row[idx]\n",
    "                \n",
    "                #append new value, based on above logic\n",
    "                newrow.append(value)\n",
    "                \n",
    "                                \n",
    "            #append new modified row\n",
    "            new_subset.append(newrow)\n",
    "        \n",
    "        #append to final list\n",
    "        condprob = condprob + new_subset\n",
    "    \n",
    "    return condprob\n",
    "\n",
    "def generate_condprob(parent, states, mode=\"max_entropy\", n_transitions=5):\n",
    "    import numpy as np\n",
    "    #append probabilities to each row in the condition table\n",
    "    condprob=[]\n",
    "        \n",
    "    #for each parent state\n",
    "    for parentstate in states:\n",
    "        \n",
    "        #subset all rows starting with parent state i\n",
    "        subset = [row for row in parent if row[0] == parentstate]\n",
    "\n",
    "        \"\"\"# manipulate the list \"\"\"\n",
    "        \n",
    "        #All rows, starting with E, should lead only to E\n",
    "        #If a sequence has E at any point, every subsequent entry becomes E\n",
    "        \n",
    "        if mode==\"max_entropy\":\n",
    "            #get list of probabilities for each state\n",
    "            vec = np.random.random(len(subset))\n",
    "        \n",
    "        if mode==\"med_entropy\":\n",
    "            #get n random rows with probability > 0, and 0 for rest of the rows\n",
    "            vec = np.zeros(len(subset)).tolist()\n",
    "            \n",
    "            ids = list(range(0,len(vec)))\n",
    "            import random\n",
    "            selected = random.sample(ids, n_transitions)\n",
    "            \n",
    "            for i in selected:\n",
    "                vec[i] = np.round(np.random.random(1)[0],decimals=8)\n",
    "                \n",
    "        if mode==\"min_entropy\":\n",
    "            #get 1 random row with probability == 1 and 0 for rest of the rows\n",
    "            vec = np.zeros(len(subset)).tolist()\n",
    "            \n",
    "            ids = list(range(0,len(vec)))\n",
    "            import random\n",
    "            selected = random.sample(ids, 1)[0]\n",
    "            \n",
    "            #set probability to 1\n",
    "            vec[selected] = 1\n",
    "            \n",
    "        \n",
    "        #normalize it\n",
    "        vec = np.round(vec/np.sum(vec), decimals=5)\n",
    "        vec = vec.tolist()\n",
    "        \n",
    "        for i in range(0,len(subset)):\n",
    "            #get the probability\n",
    "            p = vec[i]\n",
    "            \n",
    "            #append it to row i in subset\n",
    "            subset[i].append(p)\n",
    "            \n",
    "        #\"\"\"\n",
    "        #append to final list\n",
    "        condprob = condprob + subset\n",
    "    \n",
    "    return condprob\n",
    "\n",
    "\n",
    "def create_homc(states, h0, h=2, mode=\"max_entropy\", n_transitions=5):\n",
    "        \n",
    "    from SynBPS.simulation.homc_helpers import cartesian_product, combine_to_list, modify_rules, generate_condprob\n",
    "    \n",
    "    \n",
    "    ######################################\n",
    "    # P1\n",
    "    \n",
    "    #for each link\n",
    "    c = cartesian_product(states, states)\n",
    "    d = combine_to_list(c)\n",
    "    \n",
    "    #final steps\n",
    "    g = modify_rules(d, states)\n",
    "    p1_input = generate_condprob(g, states, mode, n_transitions)\n",
    "    \n",
    "    ######################################\n",
    "    # P2\n",
    "    \n",
    "    #for each link\n",
    "    c = cartesian_product(states, states)\n",
    "    d = combine_to_list(c)\n",
    "    \n",
    "    e = cartesian_product(c, states)\n",
    "    f = combine_to_list(e)\n",
    "    \n",
    "    #final steps\n",
    "    g = modify_rules(f, states)\n",
    "    p2_input = generate_condprob(g, states, mode, n_transitions)\n",
    "    \n",
    "    ######################################    \n",
    "    # P3\n",
    "    \n",
    "    #for each link\n",
    "    c = cartesian_product(states, states)\n",
    "    d = combine_to_list(c)\n",
    "    \n",
    "    e = cartesian_product(c, d)\n",
    "    f = combine_to_list(e)\n",
    "    \n",
    "    #final steps\n",
    "    g = modify_rules(f, states)\n",
    "    p3_input = generate_condprob(g, states, mode, n_transitions)\n",
    "    \n",
    "    ######################################    \n",
    "    # P4\n",
    "    \n",
    "    #for each link\n",
    "    c = cartesian_product(states, states)\n",
    "    d = combine_to_list(c)\n",
    "    \n",
    "    e = cartesian_product(c, d)\n",
    "    f = combine_to_list(e)\n",
    "    \n",
    "    e = cartesian_product(f, states)\n",
    "    f = combine_to_list(e)\n",
    "    \n",
    "    #final steps\n",
    "    g = modify_rules(f, states)\n",
    "    p4_input = generate_condprob(g, states, mode, n_transitions)\n",
    "\n",
    "    ######################################    \n",
    "    # P5\n",
    "    \n",
    "    #for each link\n",
    "    c = cartesian_product(states, states)\n",
    "    d = combine_to_list(c)\n",
    "    \n",
    "    e = cartesian_product(c, d)\n",
    "    f = combine_to_list(e)\n",
    "    \n",
    "    e = cartesian_product(f, states)\n",
    "    f = combine_to_list(e)\n",
    "    \n",
    "    #final steps\n",
    "    g = modify_rules(f, states)\n",
    "    p4_input = generate_condprob(g, states, mode, n_transitions)\n",
    "\n",
    "    \"\"\"\n",
    "    Input generated tables to pomegranate\n",
    "    \"\"\"\n",
    "    from pomegranate import DiscreteDistribution, ConditionalProbabilityTable, MarkovChain\n",
    "    \n",
    "    if h == 1:\n",
    "        p0 = DiscreteDistribution(h0)\n",
    "        \n",
    "        p1 = ConditionalProbabilityTable(p1_input, [p0])\n",
    "        \n",
    "        HOMC = MarkovChain([p0, p1])\n",
    "        \n",
    "    if h == 2:\n",
    "        p0 = DiscreteDistribution(h0)\n",
    "        \n",
    "        p1 = ConditionalProbabilityTable(p1_input, [p0])\n",
    "        \n",
    "        p2 = ConditionalProbabilityTable(p2_input, [p1])\n",
    "        \n",
    "        HOMC = MarkovChain([p0, p1, p2])\n",
    "        \n",
    "    if h == 3:\n",
    "        \n",
    "        p0 = DiscreteDistribution(h0)\n",
    "        \n",
    "        p1 = ConditionalProbabilityTable(p1_input, [p0])\n",
    "        \n",
    "        p2 = ConditionalProbabilityTable(p2_input, [p1])\n",
    "        \n",
    "        p3 = ConditionalProbabilityTable(p3_input, [p2])\n",
    "        \n",
    "        HOMC = MarkovChain([p0, p1, p2, p3])\n",
    "        \n",
    "    if h == 4:\n",
    "         \n",
    "        p0 = DiscreteDistribution(h0)\n",
    "         \n",
    "        p1 = ConditionalProbabilityTable(p1_input, [p0])\n",
    "         \n",
    "        p2 = ConditionalProbabilityTable(p2_input, [p1])\n",
    "         \n",
    "        p3 = ConditionalProbabilityTable(p3_input, [p2])\n",
    "         \n",
    "        p4 = ConditionalProbabilityTable(p4_input, [p3])\n",
    "         \n",
    "        HOMC = MarkovChain([p0, p1, p2, p3, p4])\n",
    "         \n",
    "    if h > 4:\n",
    "        print(\"h > 4 not supported yet - please create an issue on github\")\n",
    "        HOMC = 0\n",
    "    \n",
    "    return HOMC"
   ]
  },
  {
   "cell_type": "code",
   "execution_count": 25,
   "id": "969748ba-3099-45eb-a0a6-23c9695da9af",
   "metadata": {},
   "outputs": [],
   "source": [
    "def GenerateInitialProb(D=[\"a\",\"b\"], p0_type=\"regular\"):\n",
    "    import numpy as np\n",
    "    import pandas as pd\n",
    "    \n",
    "    if p0_type == \"min_entropy\":\n",
    "        # Example P0 is one-hot\n",
    "    \n",
    "        P0 = np.zeros(len(D))\n",
    "        P0[np.random.randint(0,len(D),1)[0]] = 1\n",
    "        P0 = P0.tolist()\n",
    "\n",
    "    if p0_type != \"min_entropy\":\n",
    "        \n",
    "        P0 = []\n",
    "    \n",
    "        for d in D:\n",
    "            #Draw from uniform dist\n",
    "            x_d = np.random.uniform(0,1,1)[0]\n",
    "            #print(x_d)\n",
    "            #Append the value to the vector\n",
    "            P0.append(x_d)\n",
    "        \n",
    "        #Add the p(absorbtion)=0 to P0\n",
    "        #P0.append(0)\n",
    "        \n",
    "        #Normalize\n",
    "        S_sum = np.sum(P0)\n",
    "        P0 = P0/S_sum\n",
    "        \n",
    "        #Make dataframe\n",
    "        #P_0_df = pd.DataFrame(P0).T\n",
    "        #P_0_df.columns = D\n",
    "        \n",
    "    return P0#P_0_df"
   ]
  },
  {
   "cell_type": "markdown",
   "id": "ba4dc814-8fe6-4562-88b2-814d4066ebca",
   "metadata": {},
   "source": [
    "## Dummy data test"
   ]
  },
  {
   "cell_type": "code",
   "execution_count": 27,
   "id": "07909b5c-09c4-49ae-8a57-9ffc3f02e8b1",
   "metadata": {},
   "outputs": [],
   "source": [
    "states = [\"a\",\"b\"]\n",
    "mode = \"med_entropy\"\n",
    "n_transitions = 1\n",
    "\n"
   ]
  },
  {
   "cell_type": "code",
   "execution_count": 81,
   "id": "f2867db0-2ff9-4a94-9638-7d751702b6b8",
   "metadata": {},
   "outputs": [
    {
     "data": {
      "text/plain": [
       "array([0.81051236, 0.18948764])"
      ]
     },
     "execution_count": 81,
     "metadata": {},
     "output_type": "execute_result"
    }
   ],
   "source": [
    "h0 = GenerateInitialProb(D=states, p0_type=\"regular\")\n",
    "h0"
   ]
  },
  {
   "cell_type": "code",
   "execution_count": 30,
   "id": "ac2ae02c-a1e4-452d-95ea-32f474c81766",
   "metadata": {},
   "outputs": [],
   "source": [
    "######################################\n",
    "# P1\n",
    "\n",
    "#for each link\n",
    "c = cartesian_product(states, states)\n",
    "d = combine_to_list(c)\n",
    "\n",
    "#final steps\n",
    "g = modify_rules(d, states)\n",
    "p1_input = generate_condprob(g, states, mode, n_transitions)\n",
    "\n",
    "######################################\n",
    "# P2\n",
    "\n",
    "#for each link\n",
    "c = cartesian_product(states, states)\n",
    "d = combine_to_list(c)\n",
    "\n",
    "e = cartesian_product(c, states)\n",
    "f = combine_to_list(e)\n",
    "\n",
    "#final steps\n",
    "g = modify_rules(f, states)\n",
    "p2_input = generate_condprob(g, states, mode, n_transitions)"
   ]
  },
  {
   "cell_type": "code",
   "execution_count": 32,
   "id": "39a749fb-1a27-4d43-87cb-32590b387cc9",
   "metadata": {},
   "outputs": [],
   "source": [
    "def DiscreteDistribution(h0):\n",
    "    return h0\n",
    "    \n",
    "def ConditionalProbabilityTable(p1_input, p0):\n",
    "    return p1_input"
   ]
  },
  {
   "cell_type": "code",
   "execution_count": 33,
   "id": "7c2e5061-2c19-4f58-b77d-df2b49b3276e",
   "metadata": {},
   "outputs": [],
   "source": [
    "\n",
    "######### Creating the HOMC from the matrices/tables\n",
    "\n",
    "p0 = DiscreteDistribution(h0)\n",
    " \n",
    "p1 = ConditionalProbabilityTable(p1_input, [p0])\n",
    " \n",
    "p2 = ConditionalProbabilityTable(p2_input, [p1])"
   ]
  },
  {
   "cell_type": "code",
   "execution_count": 34,
   "id": "ca7b0612-dcd1-4ce0-8d84-08259b3ba572",
   "metadata": {},
   "outputs": [],
   "source": [
    "def MarkovChain(array):\n",
    "    \"\"\"\n",
    "    Dummy function\n",
    "    \"\"\"\n",
    "    HOMC = array\n",
    "    return HOMC"
   ]
  },
  {
   "cell_type": "code",
   "execution_count": 35,
   "id": "1eea7627-2f6c-4301-ba26-e9c2c9378351",
   "metadata": {},
   "outputs": [],
   "source": [
    "\n",
    "HOMC = MarkovChain([p0, p1, p2])"
   ]
  },
  {
   "cell_type": "code",
   "execution_count": 36,
   "id": "c6731163-bd3c-4041-a8d0-cec47513555f",
   "metadata": {},
   "outputs": [
    {
     "data": {
      "text/plain": [
       "[array([0.91251687, 0.08748313]),\n",
       " [['a', 'a', 1.0], ['a', 'b', 0.0], ['b', 'a', 0.0], ['b', 'b', 1.0]],\n",
       " [['a', 'a', 'a', 0.0],\n",
       "  ['a', 'a', 'b', 0.0],\n",
       "  ['a', 'b', 'a', 0.0],\n",
       "  ['a', 'b', 'b', 1.0],\n",
       "  ['b', 'a', 'a', 0.0],\n",
       "  ['b', 'a', 'b', 0.0],\n",
       "  ['b', 'b', 'a', 0.0],\n",
       "  ['b', 'b', 'b', 1.0]]]"
      ]
     },
     "execution_count": 36,
     "metadata": {},
     "output_type": "execute_result"
    }
   ],
   "source": [
    "HOMC"
   ]
  },
  {
   "cell_type": "markdown",
   "id": "84359059-cd05-4c3c-8e7d-2423a3aa5353",
   "metadata": {},
   "source": [
    "# Moving from list to dict representation"
   ]
  },
  {
   "cell_type": "code",
   "execution_count": 55,
   "id": "5f8a0676-21cd-4b4e-9a35-158491c940c5",
   "metadata": {},
   "outputs": [
    {
     "data": {
      "text/plain": [
       "[('a', 'a'), ('a', 'b'), ('b', 'a'), ('b', 'b')]"
      ]
     },
     "execution_count": 55,
     "metadata": {},
     "output_type": "execute_result"
    }
   ],
   "source": [
    "#for each link\n",
    "c = cartesian_product(states, states)\n",
    "c"
   ]
  },
  {
   "cell_type": "code",
   "execution_count": 56,
   "id": "a5d634f5-5f75-4e2d-8b1f-52cdd0fdb09c",
   "metadata": {},
   "outputs": [
    {
     "data": {
      "text/plain": [
       "[['a', 'a'], ['a', 'b'], ['b', 'a'], ['b', 'b']]"
      ]
     },
     "execution_count": 56,
     "metadata": {},
     "output_type": "execute_result"
    }
   ],
   "source": [
    "d = combine_to_list(c)\n",
    "d"
   ]
  },
  {
   "cell_type": "code",
   "execution_count": 57,
   "id": "7ed6ea28-6da9-4cff-88f6-27616eeb570f",
   "metadata": {},
   "outputs": [
    {
     "data": {
      "text/plain": [
       "[['a', 'a'], ['a', 'b'], ['b', 'a'], ['b', 'b']]"
      ]
     },
     "execution_count": 57,
     "metadata": {},
     "output_type": "execute_result"
    }
   ],
   "source": [
    "g = modify_rules(d, states)\n",
    "g"
   ]
  },
  {
   "cell_type": "code",
   "execution_count": 58,
   "id": "fd1a6013-c7c7-48b0-acc0-46e8c6409be6",
   "metadata": {},
   "outputs": [
    {
     "data": {
      "text/plain": [
       "[['a', 'a', 1.0], ['a', 'b', 0.0], ['b', 'a', 0.0], ['b', 'b', 1.0]]"
      ]
     },
     "execution_count": 58,
     "metadata": {},
     "output_type": "execute_result"
    }
   ],
   "source": [
    "p1_input = generate_condprob(g, states, mode, n_transitions)\n",
    "p1_input"
   ]
  },
  {
   "cell_type": "markdown",
   "id": "cdfb5aab-7640-41aa-9ca2-83e76dafb517",
   "metadata": {},
   "source": [
    "## How do we do the same thing with tuples?"
   ]
  },
  {
   "cell_type": "code",
   "execution_count": null,
   "id": "2c87e6c3-aa70-4fe9-ab24-264b82f2465b",
   "metadata": {},
   "outputs": [],
   "source": [
    "def generate_condprob(parent, states, mode=\"max_entropy\", n_transitions=5):\n",
    "    import numpy as np\n",
    "    #append probabilities to each row in the condition table\n",
    "    condprob=[]\n",
    "        \n",
    "    #for each parent state\n",
    "    for parentstate in states:\n",
    "        \n",
    "        #subset all rows starting with parent state i\n",
    "        subset = [row for row in parent if row[0] == parentstate]\n",
    "\n",
    "        \"\"\"# manipulate the list \"\"\"\n",
    "        \n",
    "        #All rows, starting with E, should lead only to E\n",
    "        #If a sequence has E at any point, every subsequent entry becomes E\n",
    "        \n",
    "        if mode==\"max_entropy\":\n",
    "            #get list of probabilities for each state\n",
    "            vec = np.random.random(len(subset))\n",
    "        \n",
    "        if mode==\"med_entropy\":\n",
    "            #get n random rows with probability > 0, and 0 for rest of the rows\n",
    "            vec = np.zeros(len(subset)).tolist()\n",
    "            \n",
    "            ids = list(range(0,len(vec)))\n",
    "            import random\n",
    "            selected = random.sample(ids, n_transitions)\n",
    "            \n",
    "            for i in selected:\n",
    "                vec[i] = np.round(np.random.random(1)[0],decimals=8)\n",
    "                \n",
    "        if mode==\"min_entropy\":\n",
    "            #get 1 random row with probability == 1 and 0 for rest of the rows\n",
    "            vec = np.zeros(len(subset)).tolist()\n",
    "            \n",
    "            ids = list(range(0,len(vec)))\n",
    "            import random\n",
    "            selected = random.sample(ids, 1)[0]\n",
    "            \n",
    "            #set probability to 1\n",
    "            vec[selected] = 1\n",
    "            \n",
    "        \n",
    "        #normalize it\n",
    "        vec = np.round(vec/np.sum(vec), decimals=5)\n",
    "        vec = vec.tolist()\n",
    "        \n",
    "        for i in range(0,len(subset)):\n",
    "            #get the probability\n",
    "            p = vec[i]\n",
    "            \n",
    "            #append it to row i in subset\n",
    "            subset[i].append(p)\n",
    "            \n",
    "        #\"\"\"\n",
    "        #append to final list\n",
    "        condprob = condprob + subset\n",
    "    \n",
    "    return condprob"
   ]
  },
  {
   "cell_type": "code",
   "execution_count": null,
   "id": "77a7905d-4b4d-4fe5-bd76-74e92534d1ce",
   "metadata": {},
   "outputs": [],
   "source": []
  },
  {
   "cell_type": "code",
   "execution_count": 49,
   "id": "437c3a40-e640-48bc-977f-e3877ef50441",
   "metadata": {},
   "outputs": [
    {
     "name": "stdout",
     "output_type": "stream",
     "text": [
      "{('a', 'a', 1.0): {'a': 'b', ('a', 'b', 0.0): {'b': 'a', ('b', 'a', 0.0): {'b': 'b'}}}, ('a', 'a', 'a', 0.0): {'a': 'a', ('a', 'a', 'b', 0.0): {'a': 'b', ('a', 'b', 'a', 0.0): {'a': 'b', ('a', 'b', 'b', 1.0): {'b': 'a', ('b', 'a', 'a', 0.0): {'b': 'a', ('b', 'a', 'b', 0.0): {'b': 'b', ('b', 'b', 'a', 0.0): {'b': 'b'}}}}}}}}\n"
     ]
    }
   ],
   "source": [
    "markov_chain = [[['a', 'a', 1.0],\n",
    "                 ['a', 'b', 0.0],\n",
    "                 ['b', 'a', 0.0],\n",
    "                 ['b', 'b', 1.0]],\n",
    "\n",
    "                [['a', 'a', 'a', 0.0],\n",
    "                 ['a', 'a', 'b', 0.0],\n",
    "                 ['a', 'b', 'a', 0.0],\n",
    "                 ['a', 'b', 'b', 1.0],\n",
    "                 ['b', 'a', 'a', 0.0],\n",
    "                 ['b', 'a', 'b', 0.0],\n",
    "                 ['b', 'b', 'a', 0.0],\n",
    "                 ['b', 'b', 'b', 1.0]]]"
   ]
  },
  {
   "cell_type": "code",
   "execution_count": 54,
   "id": "f5d44480-8141-4ad7-a0ab-838c9fda5b5a",
   "metadata": {},
   "outputs": [
    {
     "data": {
      "text/plain": [
       "0.9"
      ]
     },
     "execution_count": 54,
     "metadata": {},
     "output_type": "execute_result"
    }
   ],
   "source": [
    "test = {\"a\":0.1,\n",
    "       (\"a\",\"b\"):0.9}\n",
    "\n",
    "test[(\"a\",\"b\")]"
   ]
  },
  {
   "cell_type": "markdown",
   "id": "935d0ce6-7458-45a7-a77e-5a0a30ba522a",
   "metadata": {},
   "source": [
    "## A simple dict-based data format"
   ]
  },
  {
   "cell_type": "code",
   "execution_count": 69,
   "id": "afc226d1-f827-40e9-a340-a3df375a206a",
   "metadata": {},
   "outputs": [
    {
     "data": {
      "text/plain": [
       "{'a': 0.0, 'b': 0.0}"
      ]
     },
     "execution_count": 69,
     "metadata": {},
     "output_type": "execute_result"
    }
   ],
   "source": [
    "markov_chain = {\n",
    "    1: {\n",
    "        ('a'): {'a': 1.0, 'b': 0.0},\n",
    "        ('b'): {'a': 0.0, 'b': 1.0}\n",
    "    },\n",
    "    2: {\n",
    "        ('a', 'a'): {'a': 0.0, 'b': 0.0},\n",
    "        ('a', 'b'): {'a': 0.0, 'b': 1.0},\n",
    "        ('b', 'a'): {'a': 0.0, 'b': 0.0},\n",
    "        ('b', 'b'): {'a': 0.0, 'b': 1.0}\n",
    "    }\n",
    "}\n",
    "\n",
    "# transitions from a sequence with A only:\n",
    "markov_chain[1][(\"a\")]\n",
    "\n",
    "# fransitions from a sequence A A:\n",
    "markov_chain[2][(\"a\",\"a\")]"
   ]
  },
  {
   "cell_type": "code",
   "execution_count": 79,
   "id": "fa129934-0aa2-41d4-9a7b-7b47660d1034",
   "metadata": {},
   "outputs": [
    {
     "data": {
      "text/plain": [
       "{'a': 0.0, 'b': 0.0}"
      ]
     },
     "execution_count": 79,
     "metadata": {},
     "output_type": "execute_result"
    }
   ],
   "source": [
    "# Existing format created by the transition matrix algorithms:\n",
    "\n",
    "markov_chain = [[['a', 'a', 1.0],\n",
    "                 ['a', 'b', 0.0],\n",
    "                 ['b', 'a', 0.0],\n",
    "                 ['b', 'b', 1.0]],\n",
    "\n",
    "                [['a', 'a', 'a', 0.0],\n",
    "                 ['a', 'a', 'b', 0.0],\n",
    "                 ['a', 'b', 'a', 0.0],\n",
    "                 ['a', 'b', 'b', 1.0],\n",
    "                 ['b', 'a', 'a', 0.0],\n",
    "                 ['b', 'a', 'b', 0.0],\n",
    "                 ['b', 'b', 'a', 0.0],\n",
    "                 ['b', 'b', 'b', 1.0]]]\n",
    "\n",
    "# A function to convert it into a nested dictionary:\n",
    "\n",
    "def transform_markov_chain(markov_chain_list):\n",
    "    markov_chain_dict = {}\n",
    "    for table in markov_chain_list:\n",
    "        order = len(table[0]) - 2\n",
    "        transitions = {}\n",
    "        for row in table:\n",
    "            state, next_state, probability = tuple(row[:-2]), row[-2], row[-1]\n",
    "            if state not in transitions:\n",
    "                transitions[state] = {}\n",
    "            transitions[state][next_state] = probability\n",
    "        markov_chain_dict[order] = transitions\n",
    "    return markov_chain_dict\n",
    "\n",
    "# Output\n",
    "\n",
    "HOMC = transform_markov_chain(markov_chain)\n",
    "#print(HOMC)\n",
    "\n",
    "# Retrieve probability of a => a and a => b:\n",
    "HOMC[1][(\"a\",)]\n",
    "\n",
    "# Retrieve probability of a => a => a and a => a => b\n",
    "HOMC[2][(\"a\",\"a\")]"
   ]
  },
  {
   "cell_type": "code",
   "execution_count": 76,
   "id": "17dab054-d992-4dba-b484-ccf2f3364a51",
   "metadata": {},
   "outputs": [
    {
     "data": {
      "text/plain": [
       "{'a': 0.0, 'b': 0.0}"
      ]
     },
     "execution_count": 76,
     "metadata": {},
     "output_type": "execute_result"
    }
   ],
   "source": [
    "\"\"\"\n",
    "HOMC = {1: {('a',): {'a': 1.0, \n",
    "                      'b': 0.0}, \n",
    "             ('b',): {'a': 0.0, \n",
    "                      'b': 1.0}},\n",
    " \n",
    "         2: {('a', 'a'): {'a': 0.0, \n",
    "                          'b': 0.0},\n",
    "              ('a', 'b'): {'a': 0.0, \n",
    "                           'b': 1.0},\n",
    "              ('b', 'a'): {'a': 0.0, \n",
    "                           'b': 0.0},\n",
    "              ('b', 'b'): {'a': 0.0, \n",
    "                           'b': 1.0}}}\n",
    "\n",
    "HOMC[1][(\"a\",)]\n",
    "\n",
    "HOMC[2][(\"a\",\"a\")]\n",
    "\"\"\""
   ]
  },
  {
   "cell_type": "markdown",
   "id": "a36df8d7-2173-452e-ace7-13e5e48cf788",
   "metadata": {},
   "source": [
    "## Sampling from a dict-based data format"
   ]
  },
  {
   "cell_type": "code",
   "execution_count": 86,
   "id": "f71e24f8-28db-4c74-a2c7-534916d17e04",
   "metadata": {},
   "outputs": [],
   "source": [
    "import numpy as np"
   ]
  },
  {
   "cell_type": "code",
   "execution_count": 199,
   "id": "91ea8991-f99c-4cf3-8e95-ace5f22bdd94",
   "metadata": {},
   "outputs": [
    {
     "data": {
      "text/plain": [
       "[[['a', 'a', 1.0],\n",
       "  ['a', 'b', 0.0],\n",
       "  ['a', 'c', 0.0],\n",
       "  ['a', 'd', 0.0],\n",
       "  ['a', '!', 0.0],\n",
       "  ['b', 'a', 0.0],\n",
       "  ['b', 'b', 0.0],\n",
       "  ['b', 'c', 1.0],\n",
       "  ['b', 'd', 0.0],\n",
       "  ['b', '!', 0.0],\n",
       "  ['c', 'a', 0.0],\n",
       "  ['c', 'b', 0.0],\n",
       "  ['c', 'c', 0.0],\n",
       "  ['c', 'd', 1.0],\n",
       "  ['c', '!', 0.0],\n",
       "  ['d', 'a', 0.0],\n",
       "  ['d', 'b', 0.0],\n",
       "  ['d', 'c', 1.0],\n",
       "  ['d', 'd', 0.0],\n",
       "  ['d', '!', 0.0],\n",
       "  ['!', 'a', 0.0],\n",
       "  ['!', 'b', 0.0],\n",
       "  ['!', 'c', 1.0],\n",
       "  ['!', 'd', 0.0],\n",
       "  ['!', '!', 0.0]],\n",
       " [['a', 'a', 'a', 0.0],\n",
       "  ['a', 'a', 'b', 0.0],\n",
       "  ['a', 'a', 'c', 1.0],\n",
       "  ['a', 'a', 'd', 0.0],\n",
       "  ['a', 'a', '!', 0.0],\n",
       "  ['a', 'b', 'a', 0.0],\n",
       "  ['a', 'b', 'b', 0.0],\n",
       "  ['a', 'b', 'c', 0.0],\n",
       "  ['a', 'b', 'd', 0.0],\n",
       "  ['a', 'b', '!', 0.0],\n",
       "  ['a', 'c', 'a', 0.0],\n",
       "  ['a', 'c', 'b', 0.0],\n",
       "  ['a', 'c', 'c', 0.0],\n",
       "  ['a', 'c', 'd', 0.0],\n",
       "  ['a', 'c', '!', 0.0],\n",
       "  ['a', 'd', 'a', 0.0],\n",
       "  ['a', 'd', 'b', 0.0],\n",
       "  ['a', 'd', 'c', 0.0],\n",
       "  ['a', 'd', 'd', 0.0],\n",
       "  ['a', 'd', '!', 0.0],\n",
       "  ['a', '!', 'a', 0.0],\n",
       "  ['a', '!', 'b', 0.0],\n",
       "  ['a', '!', 'c', 0.0],\n",
       "  ['a', '!', 'd', 0.0],\n",
       "  ['a', '!', '!', 0.0],\n",
       "  ['b', 'a', 'a', 0.0],\n",
       "  ['b', 'a', 'b', 0.0],\n",
       "  ['b', 'a', 'c', 0.0],\n",
       "  ['b', 'a', 'd', 0.0],\n",
       "  ['b', 'a', '!', 0.0],\n",
       "  ['b', 'b', 'a', 0.0],\n",
       "  ['b', 'b', 'b', 0.0],\n",
       "  ['b', 'b', 'c', 0.0],\n",
       "  ['b', 'b', 'd', 0.0],\n",
       "  ['b', 'b', '!', 0.0],\n",
       "  ['b', 'c', 'a', 0.0],\n",
       "  ['b', 'c', 'b', 0.0],\n",
       "  ['b', 'c', 'c', 0.0],\n",
       "  ['b', 'c', 'd', 0.0],\n",
       "  ['b', 'c', '!', 0.0],\n",
       "  ['b', 'd', 'a', 0.0],\n",
       "  ['b', 'd', 'b', 0.0],\n",
       "  ['b', 'd', 'c', 0.0],\n",
       "  ['b', 'd', 'd', 0.0],\n",
       "  ['b', 'd', '!', 0.0],\n",
       "  ['b', '!', 'a', 1.0],\n",
       "  ['b', '!', 'b', 0.0],\n",
       "  ['b', '!', 'c', 0.0],\n",
       "  ['b', '!', 'd', 0.0],\n",
       "  ['b', '!', '!', 0.0],\n",
       "  ['c', 'a', 'a', 0.0],\n",
       "  ['c', 'a', 'b', 0.0],\n",
       "  ['c', 'a', 'c', 0.0],\n",
       "  ['c', 'a', 'd', 0.0],\n",
       "  ['c', 'a', '!', 0.0],\n",
       "  ['c', 'b', 'a', 0.0],\n",
       "  ['c', 'b', 'b', 0.0],\n",
       "  ['c', 'b', 'c', 0.0],\n",
       "  ['c', 'b', 'd', 0.0],\n",
       "  ['c', 'b', '!', 0.0],\n",
       "  ['c', 'c', 'a', 0.0],\n",
       "  ['c', 'c', 'b', 0.0],\n",
       "  ['c', 'c', 'c', 0.0],\n",
       "  ['c', 'c', 'd', 0.0],\n",
       "  ['c', 'c', '!', 0.0],\n",
       "  ['c', 'd', 'a', 0.0],\n",
       "  ['c', 'd', 'b', 0.0],\n",
       "  ['c', 'd', 'c', 0.0],\n",
       "  ['c', 'd', 'd', 0.0],\n",
       "  ['c', 'd', '!', 1.0],\n",
       "  ['c', '!', 'a', 0.0],\n",
       "  ['c', '!', 'b', 0.0],\n",
       "  ['c', '!', 'c', 0.0],\n",
       "  ['c', '!', 'd', 0.0],\n",
       "  ['c', '!', '!', 0.0],\n",
       "  ['d', 'a', 'a', 0.0],\n",
       "  ['d', 'a', 'b', 0.0],\n",
       "  ['d', 'a', 'c', 0.0],\n",
       "  ['d', 'a', 'd', 0.0],\n",
       "  ['d', 'a', '!', 0.0],\n",
       "  ['d', 'b', 'a', 0.0],\n",
       "  ['d', 'b', 'b', 0.0],\n",
       "  ['d', 'b', 'c', 0.0],\n",
       "  ['d', 'b', 'd', 0.0],\n",
       "  ['d', 'b', '!', 0.0],\n",
       "  ['d', 'c', 'a', 0.0],\n",
       "  ['d', 'c', 'b', 0.0],\n",
       "  ['d', 'c', 'c', 0.0],\n",
       "  ['d', 'c', 'd', 0.0],\n",
       "  ['d', 'c', '!', 0.0],\n",
       "  ['d', 'd', 'a', 0.0],\n",
       "  ['d', 'd', 'b', 0.0],\n",
       "  ['d', 'd', 'c', 0.0],\n",
       "  ['d', 'd', 'd', 0.0],\n",
       "  ['d', 'd', '!', 0.0],\n",
       "  ['d', '!', 'a', 0.0],\n",
       "  ['d', '!', 'b', 0.0],\n",
       "  ['d', '!', 'c', 1.0],\n",
       "  ['d', '!', 'd', 0.0],\n",
       "  ['d', '!', '!', 0.0],\n",
       "  ['!', 'a', 'a', 0.0],\n",
       "  ['!', 'a', 'b', 0.0],\n",
       "  ['!', 'a', 'c', 0.0],\n",
       "  ['!', 'a', 'd', 0.0],\n",
       "  ['!', 'a', '!', 0.0],\n",
       "  ['!', 'b', 'a', 0.0],\n",
       "  ['!', 'b', 'b', 0.0],\n",
       "  ['!', 'b', 'c', 1.0],\n",
       "  ['!', 'b', 'd', 0.0],\n",
       "  ['!', 'b', '!', 0.0],\n",
       "  ['!', 'c', 'a', 0.0],\n",
       "  ['!', 'c', 'b', 0.0],\n",
       "  ['!', 'c', 'c', 0.0],\n",
       "  ['!', 'c', 'd', 0.0],\n",
       "  ['!', 'c', '!', 0.0],\n",
       "  ['!', 'd', 'a', 0.0],\n",
       "  ['!', 'd', 'b', 0.0],\n",
       "  ['!', 'd', 'c', 0.0],\n",
       "  ['!', 'd', 'd', 0.0],\n",
       "  ['!', 'd', '!', 0.0],\n",
       "  ['!', '!', 'a', 0.0],\n",
       "  ['!', '!', 'b', 0.0],\n",
       "  ['!', '!', 'c', 0.0],\n",
       "  ['!', '!', 'd', 0.0],\n",
       "  ['!', '!', '!', 0.0]]]"
      ]
     },
     "execution_count": 199,
     "metadata": {},
     "output_type": "execute_result"
    }
   ],
   "source": [
    "# statespace for intial prob\n",
    "D = [\"a\",\"b\",\"c\",\"d\"]\n",
    "\n",
    "# statespace for conditional prob\n",
    "D_abs = D.copy()\n",
    "D_abs.append(\"!\")\n",
    "\n",
    "mode = [\"min_entropy\",\"med_entropy\",\"max_entropy\"][0]\n",
    "n_transitions = 2\n",
    "\n",
    "# event log placeholder\n",
    "sigma = []\n",
    "\n",
    "# Unconditional probabilities, excluding the absorbing state\n",
    "P0 = GenerateInitialProb(D=D, \n",
    "                         p0_type=\"regular\")\n",
    "\n",
    "# copy for use in higher order probability tables\n",
    "states = D_abs.copy()\n",
    "\n",
    "######################################\n",
    "# P1\n",
    "\n",
    "#for each link\n",
    "c = cartesian_product(states, states)\n",
    "d = combine_to_list(c)\n",
    "\n",
    "#final steps\n",
    "g = modify_rules(d, states)\n",
    "P1 = generate_condprob(g, states, mode, n_transitions)\n",
    "\n",
    "######################################\n",
    "# P2\n",
    "\n",
    "#for each link\n",
    "c = cartesian_product(states, states)\n",
    "d = combine_to_list(c)\n",
    "\n",
    "e = cartesian_product(c, states)\n",
    "f = combine_to_list(e)\n",
    "\n",
    "#final steps\n",
    "g = modify_rules(f, states)\n",
    "P2 = generate_condprob(g, states, mode, n_transitions)\n",
    "\n",
    "######################################\n",
    "\n",
    "# final probability tables\n",
    "HOMC = [P1, P2]\n",
    "\n",
    "HOMC"
   ]
  },
  {
   "cell_type": "code",
   "execution_count": 200,
   "id": "6168cea6-c432-48cb-9341-202f015edae7",
   "metadata": {},
   "outputs": [
    {
     "data": {
      "text/plain": [
       "['a', 'b', 'c', 'd', '!']"
      ]
     },
     "execution_count": 200,
     "metadata": {},
     "output_type": "execute_result"
    }
   ],
   "source": [
    "states"
   ]
  },
  {
   "cell_type": "markdown",
   "id": "5df8a2b3-fc27-43f4-a629-1d37609e4d07",
   "metadata": {},
   "source": [
    "### Convert to dictionary"
   ]
  },
  {
   "cell_type": "code",
   "execution_count": 201,
   "id": "ca5a623d-5308-4b63-b13c-6df49d032857",
   "metadata": {},
   "outputs": [
    {
     "name": "stdout",
     "output_type": "stream",
     "text": [
      "dict_keys([1, 2])\n"
     ]
    },
    {
     "data": {
      "text/plain": [
       "{'a': 0.0, 'b': 0.0, 'c': 1.0, 'd': 0.0, '!': 0.0}"
      ]
     },
     "execution_count": 201,
     "metadata": {},
     "output_type": "execute_result"
    }
   ],
   "source": [
    "P_k = transform_markov_chain(HOMC)\n",
    "\n",
    "# Show the order of the HOMC\n",
    "print(P_k.keys())\n",
    "\n",
    "# Retrieve probability of a => a and a => b:\n",
    "P_k[1][(\"a\",)] #order = 1\n",
    "\n",
    "# Retrieve probability of a => a => a and a => a => b\n",
    "P_k[2][(\"a\",\"a\")] #order = 2"
   ]
  },
  {
   "cell_type": "markdown",
   "id": "66dde3b6-4cf0-4e63-877e-f87a981082c1",
   "metadata": {},
   "source": [
    "### first event sampling"
   ]
  },
  {
   "cell_type": "code",
   "execution_count": 202,
   "id": "3a01d039-1864-4146-8495-f2d970df73ad",
   "metadata": {},
   "outputs": [
    {
     "data": {
      "text/plain": [
       "['d']"
      ]
     },
     "execution_count": 202,
     "metadata": {},
     "output_type": "execute_result"
    }
   ],
   "source": [
    "e_t = np.random.choice(D, #len(D), #\n",
    "                       size=1, \n",
    "                       replace=False, \n",
    "                       p=P0)[0]\n",
    "# add first event to trace\n",
    "sigma.append(e_t)\n",
    "sigma"
   ]
  },
  {
   "cell_type": "markdown",
   "id": "47a0427b-a2fc-4f06-b0c5-0e44d0e4de9f",
   "metadata": {},
   "source": [
    "### second event sampling"
   ]
  },
  {
   "cell_type": "code",
   "execution_count": 203,
   "id": "9dfedbae-bcac-4547-b48d-f98587c37620",
   "metadata": {},
   "outputs": [],
   "source": [
    "# this should be conditional on the length of the sequence;\n",
    "# if length K-1, use K'th order probability table\n",
    "# if length is > K-1, subset sequence to the last K-1 events, and use K'th order probability table\n",
    "\n",
    "#max(P_k.keys())"
   ]
  },
  {
   "cell_type": "markdown",
   "id": "16db8155-1933-4307-8c0a-637bf19d1d58",
   "metadata": {},
   "source": [
    "### Full sampling procedure"
   ]
  },
  {
   "cell_type": "code",
   "execution_count": 204,
   "id": "7d5111d5-1b72-4e1e-9bf5-f562a1f5e4af",
   "metadata": {},
   "outputs": [],
   "source": [
    "sigma = []"
   ]
  },
  {
   "cell_type": "code",
   "execution_count": 207,
   "id": "c8597568-548c-43be-97c7-2e4cd503c616",
   "metadata": {},
   "outputs": [
    {
     "name": "stdout",
     "output_type": "stream",
     "text": [
      "0\n",
      "1\n",
      "2\n",
      "3\n"
     ]
    },
    {
     "data": {
      "text/plain": [
       "['a', 'a', 'c', '!']"
      ]
     },
     "execution_count": 207,
     "metadata": {},
     "output_type": "execute_result"
    }
   ],
   "source": [
    "sigma = []\n",
    "\n",
    "for i in range(0,50):\n",
    "    #stop the loop when \"!\" has been reached\n",
    "    if \"!\" in set(sigma):\n",
    "        break\n",
    "    \n",
    "    # determine tracelength\n",
    "    tracelen = len(sigma)\n",
    "    print(tracelen)\n",
    "    \n",
    "    if tracelen == 0:\n",
    "        #sample first event from P0\n",
    "        e_t = np.random.choice(D,\n",
    "                           size=1, \n",
    "                           replace=False, \n",
    "                           p=P0)[0]\n",
    "        # add first event to trace\n",
    "        sigma.append(e_t)\n",
    "    \n",
    "    # if length K-1, use K'th order probability table\n",
    "    if tracelen > 0 and tracelen <= max(P_k.keys()):\n",
    "        # retrieve the order to subset P_k from\n",
    "        order = len(sigma)\n",
    "    \n",
    "        # retrieve the probability distribution\n",
    "        prob_dist = P_k[order][tuple(sigma)]\n",
    "    \n",
    "        # Extract elements and their associated probabilities\n",
    "        elements = list(prob_dist.keys())\n",
    "        probabilities = list(prob_dist.values())\n",
    "        \n",
    "        # Use np.random.choice with the probabilities\n",
    "        e_t = np.random.choice(elements,\n",
    "                               size=1, \n",
    "                               replace=False, \n",
    "                               p=probabilities)\n",
    "        \n",
    "        # add sampled event to trace\n",
    "        sigma.append(e_t[0])\n",
    "    \n",
    "    # if length is > K-1, subset sequence to the last K-1 events, and use K'th order probability table\n",
    "    if tracelen > max(P_k.keys()):\n",
    "        \"\"\"\n",
    "        #in this case we keep using the last transition matrix\n",
    "        order = max(P_k.keys())\n",
    "    \n",
    "        #we use the last K events as a sliding window\n",
    "        sigma_last = sigma[-order:].copy()\n",
    "    \n",
    "         # retrieve the probability distribution\n",
    "        prob_dist = P_k[order][tuple(sigma_last)]\n",
    "    \n",
    "        # Extract elements and their associated probabilities\n",
    "        elements = list(prob_dist.keys())\n",
    "        probabilities = list(prob_dist.values())\n",
    "        \n",
    "        # Use np.random.choice with the probabilities\n",
    "        e_t = np.random.choice(elements,\n",
    "                               size=1, \n",
    "                               replace=False, \n",
    "                               p=probabilities)\n",
    "        \n",
    "        # add sampled event to trace\n",
    "        sigma.append(e_t[0])\n",
    "        \"\"\"\n",
    "\n",
    "        #### Alternate approach:\n",
    "        # pro: this is much more intuitive\n",
    "        # con: sequences _could_ be longer with a sliding window, and this might use up more memory\n",
    "        \n",
    "        # truncate/end everything after K\n",
    "        e_t = \"!\"\n",
    "        \n",
    "        # add sampled event to trace\n",
    "        sigma.append(e_t)\n",
    "        \n",
    "sigma"
   ]
  },
  {
   "cell_type": "code",
   "execution_count": 206,
   "id": "18395f2f-1c3e-4c2a-928c-baca6aa105fa",
   "metadata": {},
   "outputs": [
    {
     "data": {
      "text/plain": [
       "{'a': 0.0, 'b': 0.0, 'c': 0.0, 'd': 0.0, '!': 0.0}"
      ]
     },
     "execution_count": 206,
     "metadata": {},
     "output_type": "execute_result"
    }
   ],
   "source": [
    "probabilities\n",
    "prob_dist"
   ]
  },
  {
   "cell_type": "code",
   "execution_count": 190,
   "id": "e2642f25-f732-466e-bd4f-c8636b07b9a9",
   "metadata": {},
   "outputs": [
    {
     "data": {
      "text/plain": [
       "['a', 'b']"
      ]
     },
     "execution_count": 190,
     "metadata": {},
     "output_type": "execute_result"
    }
   ],
   "source": [
    "sigma"
   ]
  },
  {
   "cell_type": "code",
   "execution_count": 189,
   "id": "93b58def-8420-4394-9157-e431dea8cd78",
   "metadata": {},
   "outputs": [
    {
     "data": {
      "text/plain": [
       "[['a', 'a', 'a', 0.0],\n",
       " ['a', 'a', 'b', 0.0],\n",
       " ['a', 'a', '!', 0.0],\n",
       " ['a', 'b', 'a', 0.75945],\n",
       " ['a', 'b', 'b', 0.0],\n",
       " ['a', 'b', '!', 0.0],\n",
       " ['a', '!', 'a', 0.0],\n",
       " ['a', '!', 'b', 0.24055],\n",
       " ['a', '!', '!', 0.0],\n",
       " ['b', 'a', 'a', 0.60869],\n",
       " ['b', 'a', 'b', 0.0],\n",
       " ['b', 'a', '!', 0.39131],\n",
       " ['b', 'b', 'a', 0.0],\n",
       " ['b', 'b', 'b', 0.0],\n",
       " ['b', 'b', '!', 0.0],\n",
       " ['b', '!', 'a', 0.0],\n",
       " ['b', '!', 'b', 0.0],\n",
       " ['b', '!', '!', 0.0],\n",
       " ['!', 'a', 'a', 0.0],\n",
       " ['!', 'a', 'b', 0.0],\n",
       " ['!', 'a', '!', 0.0],\n",
       " ['!', 'b', 'a', 0.0],\n",
       " ['!', 'b', 'b', 0.0],\n",
       " ['!', 'b', '!', 0.55676],\n",
       " ['!', '!', 'a', 0.0],\n",
       " ['!', '!', 'b', 0.44324],\n",
       " ['!', '!', '!', 0.0]]"
      ]
     },
     "execution_count": 189,
     "metadata": {},
     "output_type": "execute_result"
    }
   ],
   "source": [
    "P2"
   ]
  },
  {
   "cell_type": "markdown",
   "id": "ec2adf0c-f164-4af9-96ba-1070bb59b4a1",
   "metadata": {},
   "source": [
    "# Process with memory function (alg 7)"
   ]
  },
  {
   "cell_type": "code",
   "execution_count": 1,
   "id": "d43e4f22-abf0-4c5e-a176-1a8905103054",
   "metadata": {},
   "outputs": [],
   "source": [
    "# -*- coding: utf-8 -*-\n",
    "\"\"\"\n",
    "Created on Fri Nov  5 20:10:31 2021\n",
    "\n",
    "@author: Mike\n",
    "\"\"\"\n",
    "\n",
    "def Process_with_memory(D = [\"a\",\"b\",\"c\",\"d\",\"e\"], \n",
    "                                    mode = [\"min_entropy\",\n",
    "                                            \"max_entropy\",\n",
    "                                            \"med_entropy\"][2], \n",
    "                                    num_traces=2, \n",
    "                                    sample_len=100,\n",
    "                                    K=2,\n",
    "                                    num_transitions=5):\n",
    "    import numpy as np\n",
    "    import pandas as pd\n",
    "    import sys\n",
    "    \n",
    "    ##### Part 1: Generate the transition probabilities\n",
    "    \n",
    "    # event-log container\n",
    "    Theta = []\n",
    "    \n",
    "    # Including absorption state\n",
    "    D_abs = D.copy()\n",
    "    D_abs.append(\"!\")\n",
    "    \n",
    "    \n",
    "    # Generate the model\n",
    "    from SynBPS.simulation.alg2_initial_probabilities import GenerateInitialProb\n",
    "    from SynBPS.simulation.homc_helpers import create_homc\n",
    "\n",
    "    \n",
    "    #generate initial probabilities\n",
    "    probabilities = GenerateInitialProb(D_abs, p0_type=mode)    \n",
    "    P0 = {}\n",
    "    \n",
    "    for i in range(0,len(D_abs)):\n",
    "        P0.update({D_abs[i]:probabilities[i]})\n",
    "    \n",
    "\n",
    "    #print(\"mode\",mode)\n",
    "    #create the markov chain\n",
    "    HOMC = create_homc(D_abs, P0, h=K, mode=mode, n_transitions=num_transitions)\n",
    "    \n",
    "    ##### Part 2: Draw from the distributions\n",
    "    while len(Theta) != num_traces:\n",
    "        #for trace in list(range(0,num_traces)):\n",
    "                \n",
    "        #Trace placeholder\n",
    "        Q = []\n",
    "        \n",
    "        trials = 0\n",
    "        \n",
    "        #Continue drawing until there is an absorption event when length = x\n",
    "        while \"!\" not in set(Q): #or len(Q) > 1\n",
    "            \n",
    "            #counter\n",
    "            trials = trials + 1\n",
    "\n",
    "            if trials > 1:\n",
    "                #print(\"trial\",trials)\n",
    "                #Sample trace from model\n",
    "                new_samplelen = int(sample_len)*(trials*10)\n",
    "                Q = HOMC.sample(new_samplelen)\n",
    "            else:\n",
    "                #Sample trace from model\n",
    "                Q = HOMC.sample(sample_len)\n",
    "            \n",
    "            #if absorption state is observed, remove all extra occurrences of it\n",
    "            if \"!\" in set(Q):\n",
    "                Q = Q[:Q.index('!')+1]\n",
    "\n",
    "            #if only the absorbing state is observed, try again\n",
    "            #if len(Q) == 1:\n",
    "            #    print(\"trace:\",trace,\"only the absorbing state is observed, trying again\")\n",
    "            #    Q = [] \n",
    "            \n",
    "            if trials > 10:\n",
    "                Q = []\n",
    "                print(\"Sequence did not reach absorbing state after 10 trials. Trying again.\")\n",
    "                break\n",
    "            \n",
    "        #recode the name of the termination event\n",
    "        Q = [w.replace('!', 'END') for w in Q]\n",
    "        \n",
    "        #if there is more than one event\n",
    "        if len(Q) > 1:\n",
    "            #Update the event-log\n",
    "            Theta.append(Q)\n",
    "\n",
    "    print(\"generated traces:\", len(Theta))\n",
    "    return Theta, HOMC\n",
    "\n"
   ]
  },
  {
   "cell_type": "code",
   "execution_count": null,
   "id": "d67fc1de-9c86-4c71-9fda-cce9e2ce853b",
   "metadata": {},
   "outputs": [],
   "source": []
  },
  {
   "cell_type": "code",
   "execution_count": 4,
   "id": "436f1be7-0b3c-4c3a-b37a-9405291e4a05",
   "metadata": {},
   "outputs": [
    {
     "name": "stdout",
     "output_type": "stream",
     "text": [
      "generated traces: 2\n"
     ]
    }
   ],
   "source": [
    "Event_log, HOMC = Process_with_memory(D = [\"a\",\"b\",\"c\",\"d\",\"e\"], \n",
    "                                    mode = [\"min_entropy\",\n",
    "                                            \"max_entropy\",\n",
    "                                            \"med_entropy\"][2], \n",
    "                                    num_traces=2, \n",
    "                                    sample_len=100,\n",
    "                                    K=2,\n",
    "                                    num_transitions=5)"
   ]
  },
  {
   "cell_type": "code",
   "execution_count": 14,
   "id": "dd08187f-8cad-4ea0-a0d2-b5e97d8c31d4",
   "metadata": {},
   "outputs": [
    {
     "data": {
      "text/plain": [
       "[['b', 'b', 'b', 'b', 'b', 'b', 'END'], ['d', 'a', 'END']]"
      ]
     },
     "execution_count": 14,
     "metadata": {},
     "output_type": "execute_result"
    }
   ],
   "source": [
    "Event_log"
   ]
  },
  {
   "cell_type": "code",
   "execution_count": 8,
   "id": "e8545e2c-9c57-4cf2-a92b-5dd008b11909",
   "metadata": {},
   "outputs": [
    {
     "data": {
      "text/plain": [
       "['b', 'd']"
      ]
     },
     "execution_count": 8,
     "metadata": {},
     "output_type": "execute_result"
    }
   ],
   "source": [
    "HOMC.sample(2)"
   ]
  },
  {
   "cell_type": "code",
   "execution_count": 10,
   "id": "b3954d0b-a016-48a0-8dda-ed4c7248575c",
   "metadata": {},
   "outputs": [],
   "source": [
    "#HOMC.distributions"
   ]
  },
  {
   "cell_type": "markdown",
   "id": "114c0a69-c02c-4eaa-91fb-cca84c86bdc3",
   "metadata": {},
   "source": [
    "# Functionality needed:\n",
    "\n",
    "1. distribution:\n",
    "    - Representing the HOMC using conditional probability tables (P0, P1, P2, P....)\n",
    "    - This will be done using nested dictionaries, from which probabilities are more easily looked up\n",
    "2. Sampling\n",
    "    - Predicting from P0 when no sequence\n",
    "    - Predicting from P1 when one event\n",
    "    - Predicting from P2 when two events\n",
    "    - Predicting from P_K when sequence hasnt ended yet (sliding over, predicting from the last K-1 events)"
   ]
  },
  {
   "cell_type": "code",
   "execution_count": null,
   "id": "e938027e-47d3-4490-9301-393fe07b03bc",
   "metadata": {},
   "outputs": [],
   "source": []
  }
 ],
 "metadata": {
  "kernelspec": {
   "display_name": "Python 3 (ipykernel)",
   "language": "python",
   "name": "python3"
  },
  "language_info": {
   "codemirror_mode": {
    "name": "ipython",
    "version": 3
   },
   "file_extension": ".py",
   "mimetype": "text/x-python",
   "name": "python",
   "nbconvert_exporter": "python",
   "pygments_lexer": "ipython3",
   "version": "3.9.18"
  }
 },
 "nbformat": 4,
 "nbformat_minor": 5
}
