{
 "cells": [
  {
   "cell_type": "code",
   "execution_count": null,
   "id": "6d5dc624",
   "metadata": {},
   "outputs": [],
   "source": [
    "# Suppress warnings in this notebook\n",
    "import warnings\n",
    "warnings.filterwarnings('ignore')"
   ]
  },
  {
   "cell_type": "markdown",
   "id": "7b3fd801",
   "metadata": {},
   "source": [
    "# Make an experimental design table\n",
    "Here the settings for the experiments can be modified in the dictionary called run_settings. Refer to the paper for more details on of each of the parameters."
   ]
  },
  {
   "cell_type": "code",
   "execution_count": null,
   "id": "384ed950",
   "metadata": {},
   "outputs": [],
   "source": [
    "run_settings = {# level of entropy: min, medium and/or max\n",
    "                \"process_entropy\":[\"min_entropy\",\"med_entropy\",\"max_entropy\"],\n",
    "                \n",
    "                # number of traces/cases in the event-log\n",
    "                \"number_of_traces\":[100],\n",
    "\n",
    "                # number of activity types\n",
    "                \"statespace_size\":[5,10], \n",
    "\n",
    "                # first or higher-order markov chain to represent the transitions\n",
    "                \"process_type\":[\"memoryless\",\"memory\"], \n",
    "                \n",
    "                # order of HOMC - only specify this when using process with memory\n",
    "                \"process_memory\":[2,4],\n",
    "                \n",
    "                # number of transitions - only used for medium entropy (should be higher than 2 and < statespace size)\n",
    "                \"med_ent_n_transitions\":[3, 5],\n",
    "                                \n",
    "                # lambda parameter of inter-arrival times\n",
    "                \"inter_arrival_time\":[1.5],\n",
    "                \n",
    "                # lambda parameter of process noise\n",
    "                \"process_stability_scale\":[0.1],\n",
    "                \n",
    "                # probability of agent being available\n",
    "                \"resource_availability_p\":[0.5],\n",
    "\n",
    "                # number of agents in the process\n",
    "                \"resource_availability_n\":[3],\n",
    "\n",
    "                # waiting time in full days, when no agent is available\n",
    "                \"resource_availability_m\":[0.041],\n",
    "                \n",
    "                # variation between activity durations\n",
    "                \"activity_duration_lambda_range\":[1, 5],\n",
    "                \n",
    "                # business hours definition: when can cases be processed? ()\n",
    "                \"Deterministic_offset_W\":[\"weekdays\", \"all-week\"],\n",
    "\n",
    "                # time-unit for a full week: days = 7, hrs = 24*7, etc.\n",
    "                \"Deterministic_offset_u\":[7],\n",
    "                \n",
    "                # training data format (See Verenich et al., 2019): \n",
    "                # True - use first event to predict total cycle-time. \n",
    "                # False - use Prefix-log format / each event to predict remaining cycle time.\n",
    "                \"first_state_model\":[True],\n",
    "\n",
    "                # offset for the timestamps used (1970 time after 1970)\n",
    "                \"datetime_offset\":[35],\n",
    "                \n",
    "                # number of repetitions of the experiments: duplicates the experiment table (2 times here)\n",
    "                \"num_replications\":list(range(0, 2))\n",
    "               }\n",
    "\n",
    "\n",
    "# import the make_design_table function to generate a full factorial experimental design table\n",
    "from SynBPS.simulation.DoE import make_design_table\n",
    "df = make_design_table(run_settings, file=\"data/design_table.csv\")\n",
    "\n",
    "# inspect the resulting design table\n",
    "df"
   ]
  },
  {
   "cell_type": "code",
   "execution_count": null,
   "id": "d95d4d28-2a10-4a73-a12e-08ccd3c068c2",
   "metadata": {},
   "outputs": [],
   "source": [
    "# inspect the resulting design table\n",
    "df"
   ]
  },
  {
   "cell_type": "markdown",
   "id": "cf059ec2",
   "metadata": {},
   "source": [
    "# Define training and evaluation functions\n",
    "Before running the experiments, you need to define model training and evaluation functions.\n",
    "\n",
    "In this example we train a first state model, which is a model using only the first observed event (state) to predict to total cycle-time. Setting first_state_model to False will produce a prefix-log, which can be used to predict remaining cycle-time from every observed event in the trace.\n",
    "\n",
    "Input for the training function is a dictionary named <b>Input_daata</b>, which contain the following:\n",
    "- x_train\n",
    "- x_test\n",
    "- y_train\n",
    "- y_test"
   ]
  },
  {
   "cell_type": "code",
   "execution_count": null,
   "id": "9aa96a52-f323-4456-8878-ded5d6fde331",
   "metadata": {},
   "outputs": [],
   "source": [
    "#from sklearn.model\n",
    "\n",
    "def training_function():\n",
    "    print(\"training\")\n",
    "    return\n",
    "\n",
    "#from sklearn.metrics \n",
    "\n",
    "def eval_function():\n",
    "    print(\"evaluation\")\n",
    "    return"
   ]
  },
  {
   "cell_type": "markdown",
   "id": "e4877ac6",
   "metadata": {},
   "source": [
    "# Perform the experiments\n",
    "Here you want to bring your own code into the end of the simulation loop. "
   ]
  },
  {
   "cell_type": "code",
   "execution_count": null,
   "id": "a7db3dfc-6b66-47c3-a002-e313a752aa0c",
   "metadata": {},
   "outputs": [],
   "source": [
    "from SynBPS.simulation.simulation_pipeline import run_experiments\n",
    "results = run_experiments(training_function, \n",
    "                          eval_function, \n",
    "                          out_file=\"data/results.csv\", \n",
    "                          design_table=\"data/design_table.csv\")"
   ]
  }
 ],
 "metadata": {
  "kernelspec": {
   "display_name": "Python 3 (ipykernel)",
   "language": "python",
   "name": "python3"
  },
  "language_info": {
   "codemirror_mode": {
    "name": "ipython",
    "version": 3
   },
   "file_extension": ".py",
   "mimetype": "text/x-python",
   "name": "python",
   "nbconvert_exporter": "python",
   "pygments_lexer": "ipython3",
   "version": "3.9.18"
  }
 },
 "nbformat": 4,
 "nbformat_minor": 5
}
